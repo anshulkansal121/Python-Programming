{
 "cells": [
  {
   "cell_type": "markdown",
   "metadata": {
    "id": "limD5IAfl-tz"
   },
   "source": [
    "# Tuple\n"
   ]
  },
  {
   "cell_type": "markdown",
   "metadata": {
    "id": "nSTn3CjbmB7q"
   },
   "source": [
    "### `Q1:` Join Tuples if similar initial element\n",
    "While working with Python tuples, we can have a problem in which we need to perform concatenation of records from the similarity of initial element. This problem can have applications in data domains such as Data Science.\n",
    "\n",
    "For eg.\n",
    "```\n",
    "Input  : test_list = [(5, 6), (5, 7), (5, 8), (6, 10), (7, 13)]\n",
    "Output : [(5, 6, 7, 8), (6, 10), (7, 13)]\n",
    "```"
   ]
  },
  {
   "cell_type": "code",
   "execution_count": 31,
   "metadata": {
    "id": "hwVeEvH9rJzU"
   },
   "outputs": [
    {
     "name": "stdout",
     "output_type": "stream",
     "text": [
      "The extracted elements : [(5, 6, 7, 8), (6, 10), (7, 13)]\n"
     ]
    }
   ],
   "source": [
    "# write your code here\n",
    "test_list = [(5, 6), (5, 7), (5, 8), (6, 10), (7, 13)]\n",
    "res = []\n",
    "for sub in test_list:\n",
    "    if res and res[-1][0] == sub[0]:\n",
    "        res[-1].extend(sub[1:])\n",
    "    else:\n",
    "        res.append([ele for ele in sub])\n",
    "res = list(map(tuple, res))\n",
    "\n",
    "# printing result\n",
    "print(\"The extracted elements : \" + str(res))\n",
    "\n",
    "# Alternative Approach:\n"
   ]
  },
  {
   "cell_type": "markdown",
   "metadata": {
    "id": "ujQpZOFFmeha"
   },
   "source": [
    "### `Q2:` Multiply Adjacent elements (both side) and take sum of right and lest side multiplication result.\n",
    "\n",
    "\n",
    "For eg.\n",
    "```\n",
    "The original tuple : (1, 5, 7, 8, 10)\n",
    "Resultant tuple after multiplication :\n",
    "\n",
    "(1*5, 1*5+5*7, 7*5 + 7*8, 8*7 + 8*10, 10*8) -> (5, 40, 91, 136, 80)\n",
    "\n",
    "output-(5, 40, 91, 136, 80)\n",
    "```"
   ]
  },
  {
   "cell_type": "code",
   "execution_count": 28,
   "metadata": {
    "id": "N9lveEsArNVc"
   },
   "outputs": [
    {
     "name": "stdout",
     "output_type": "stream",
     "text": [
      "(5, 40, 91, 136, 80)\n"
     ]
    }
   ],
   "source": [
    "# write your code here\n",
    "test_tup = (1,5,7,8,10)\n",
    "result = tuple()\n",
    "for i in range(len(test_tup)):\n",
    "    if(i-1 >=0 and i+1 < len(test_tup)):\n",
    "        result += ((test_tup[i] * (test_tup[i-1] + test_tup[i+1])),)\n",
    "    elif( i-1 < 0 and i + 1 < len(test_tup)):\n",
    "        result += ((test_tup[i]*test_tup[i+1]),)\n",
    "    elif(i-1>=0 and i+1 >= len(test_tup)):\n",
    "        result += ((test_tup[i]*test_tup[i-1]),)\n",
    "    else:\n",
    "        result += (test_tup[i],)\n",
    "print(result)"
   ]
  },
  {
   "cell_type": "markdown",
   "metadata": {
    "id": "x0psnUiu2ZVp"
   },
   "source": [
    "### `Q3`: Check is tuples are same or not?\n",
    "Two tuples would be same if both tuples have same element at same index\n",
    "```\n",
    "t1 = (1,2,3,0)\n",
    "t2 = (0,1,2,3)\n",
    "\n",
    "t1 and t2 are not same\n",
    "```"
   ]
  },
  {
   "cell_type": "code",
   "execution_count": 8,
   "metadata": {
    "id": "JMVw9EhSrPEc"
   },
   "outputs": [
    {
     "name": "stdout",
     "output_type": "stream",
     "text": [
      "False\n"
     ]
    }
   ],
   "source": [
    "# write your code here\n",
    "t1 = (1,2,3,0)\n",
    "t2 = (0,1,2,3)\n",
    "print(t1==t2)"
   ]
  },
  {
   "cell_type": "markdown",
   "metadata": {
    "id": "aZ4rObHK4fCN"
   },
   "source": [
    "### `Q4`: Count no of tuples, list and set from a list\n",
    "```\n",
    "list1 = [{'hi', 'bye'},{'Geeks', 'forGeeks'},('a', 'b'),['hi', 'bye'],['a', 'b']]\n",
    "\n",
    "```\n",
    "`Output:`\n",
    "\n",
    "```\n",
    "List-2\n",
    "Set-2\n",
    "Tuples-1\n",
    "```"
   ]
  },
  {
   "cell_type": "code",
   "execution_count": 6,
   "metadata": {
    "id": "g_Bnuczk69tG"
   },
   "outputs": [
    {
     "name": "stdout",
     "output_type": "stream",
     "text": [
      "List  -  2\n",
      "Set  -  2\n",
      "Tuples  -  1\n"
     ]
    }
   ],
   "source": [
    "# write your code here\n",
    "list1 = [{'hi', 'bye'},{'Geeks', 'forGeeks'},('a', 'b'),['hi', 'bye'],['a', 'b']]\n",
    "freq = {\"List\":0,\"Set\":0,\"Tuples\":0}\n",
    "for i in list1:\n",
    "    if(type(i)==set):\n",
    "        dt = 'Set'\n",
    "    elif(type(i)==list):\n",
    "        dt = 'List'\n",
    "    else:\n",
    "        dt = 'Tuples'\n",
    "    freq[dt]+=1\n",
    "for key,value in freq.items():\n",
    "    print(key,\" - \",value)"
   ]
  },
  {
   "cell_type": "markdown",
   "metadata": {
    "id": "jInFNuit8hf1"
   },
   "source": [
    "### `Q5`: Shortlist Students for a Job role\n",
    "Ask user to input students record and store in tuples for each record. Then Ask user to input three things he wants in the candidate- Primary Skill, Higher Education, Year of Graduation.\n",
    "\n",
    "Show every students record in form of tuples if matches all required criteria.\n",
    "\n",
    "It is assumed that there will be only one primry skill.\n",
    "\n",
    "If no such candidate found, print `No such candidate`\n",
    "\n",
    "`Input:`\n",
    "```\n",
    "Enter No of records- 2\n",
    "Enter Details of student-1\n",
    "Enter Student name- Manohar\n",
    "Enter Higher Education- B.Tech\n",
    "Enter Primary Skill- Python\n",
    "Enter Year of Graduation- 2022\n",
    "Enter Details of student-2\n",
    "Enter Student name- Ponian\n",
    "Enter Higher Education- B.Sc.\n",
    "Enter Primary Skill- C++\n",
    "Enter Year of Graduation- 2020\n",
    "\n",
    "Enter Job Role Requirement\n",
    "Enter Skill- Python\n",
    "Enter Higher Education- B.Tech\n",
    "Enter Year of Graduation- 2022\n",
    "```\n",
    "\n",
    "`Output`\n",
    "```\n",
    "('Manohar', 'B.tech', 'Python', '2022')\n",
    "```\n"
   ]
  },
  {
   "cell_type": "code",
   "execution_count": 15,
   "metadata": {
    "id": "erh9QZaerSHk"
   },
   "outputs": [
    {
     "name": "stdin",
     "output_type": "stream",
     "text": [
      "Enter Number of records -  1\n"
     ]
    },
    {
     "name": "stdout",
     "output_type": "stream",
     "text": [
      "Enter Details of Student -  1\n"
     ]
    },
    {
     "name": "stdin",
     "output_type": "stream",
     "text": [
      "Enter Student name - Anshul\n",
      "Enter Higher Education - MCA\n",
      "Enter Primary Skill - Python\n",
      "Enter Year of Graduation -  2025\n"
     ]
    },
    {
     "name": "stdout",
     "output_type": "stream",
     "text": [
      "\n",
      "Enter Job Role Requirement\n"
     ]
    },
    {
     "name": "stdin",
     "output_type": "stream",
     "text": [
      "Enter Skill -  Python\n",
      "Enter Higher Education - MCA\n",
      "Enter Year of Graduation -  2022\n"
     ]
    },
    {
     "name": "stdout",
     "output_type": "stream",
     "text": [
      "No such Candidate\n"
     ]
    }
   ],
   "source": [
    "# write your code here\n",
    "records = int(input(\"Enter Number of records - \"))\n",
    "stu_records = []\n",
    "flag = 0\n",
    "for i in range(records):\n",
    "    print(\"Enter Details of Student - \",i+1)\n",
    "    name = input(\"Enter Student name -\")\n",
    "    higher_Edu = input(\"Enter Higher Education -\")\n",
    "    Primary_Skill = input(\"Enter Primary Skill -\")\n",
    "    YOG = eval(input(\"Enter Year of Graduation - \"))\n",
    "    stu_records.append(tuple((name,higher_Edu,Primary_Skill,YOG)))\n",
    "print(\"\\nEnter Job Role Requirement\")\n",
    "skill = input(\"Enter Skill - \")\n",
    "HEdu = input(\"Enter Higher Education -\")\n",
    "yog = eval(input(\"Enter Year of Graduation - \"))\n",
    "\n",
    "for i in stu_records:\n",
    "    if(skill == i[2] and HEdu == i[1] and yog == i[-1]):\n",
    "        flag = 1\n",
    "        print(i)\n",
    "if(not flag):\n",
    "    print(\"No such Candidate\")\n",
    "    "
   ]
  },
  {
   "cell_type": "markdown",
   "metadata": {
    "id": "l4hLvwD2BeIN"
   },
   "source": [
    "# Set"
   ]
  },
  {
   "cell_type": "markdown",
   "metadata": {
    "id": "zCX0Sk2IBfu8"
   },
   "source": [
    "### `Q1:` Write a program to find set of common elements in three lists using sets.\n",
    "```\n",
    "Input : ar1 = [1, 5, 10, 20, 40, 80]\n",
    "        ar2 = [6, 7, 20, 80, 100]\n",
    "        ar3 = [3, 4, 15, 20, 30, 70, 80, 120]\n",
    "\n",
    "Output : [80, 20]\n",
    "```"
   ]
  },
  {
   "cell_type": "code",
   "execution_count": 4,
   "metadata": {
    "id": "rqATYpBUrUQU"
   },
   "outputs": [
    {
     "data": {
      "text/plain": [
       "[80, 20]"
      ]
     },
     "execution_count": 4,
     "metadata": {},
     "output_type": "execute_result"
    }
   ],
   "source": [
    "# write your code here\n",
    "ar1 = [1, 5, 10, 20, 40, 80]\n",
    "ar2 = [6, 7, 20, 80, 100]\n",
    "ar3 = [3, 4, 15, 20, 30, 70, 80, 120]\n",
    "list(set(ar1).intersection(set(ar2).intersection(set(ar3))))"
   ]
  },
  {
   "cell_type": "markdown",
   "metadata": {
    "id": "0gOVS-0yCYrK"
   },
   "source": [
    "### `Q2:` Write a program to count unique number of vowels using sets in a given string. Lowercase and upercase vowels will be taken as different.\n",
    "\n",
    "`Input:`\n",
    "```\n",
    "Str1 = \"hands-on data science mentorship progrAm with live classes at affordable fee only on CampusX\"\n",
    "```\n",
    "`Output:`\n",
    "```\n",
    "No of unique vowels-6\n",
    "```"
   ]
  },
  {
   "cell_type": "code",
   "execution_count": 6,
   "metadata": {
    "id": "0vAlEAOzDihm"
   },
   "outputs": [
    {
     "name": "stdin",
     "output_type": "stream",
     "text": [
      "Enter a string:  hands-on data science mentorship progrAm with live classes at affordable fee only on CampusX\n"
     ]
    },
    {
     "name": "stdout",
     "output_type": "stream",
     "text": [
      "No of unique vowels -  6\n"
     ]
    }
   ],
   "source": [
    "# write your code here\n",
    "str1 = input(\"Enter a string: \")\n",
    "vowels = \"aeiouAEIOU\"\n",
    "result  = set()\n",
    "for i in str1:\n",
    "    if i in vowels:\n",
    "        result.add(i)\n",
    "print(\"No of unique vowels - \",len(result))"
   ]
  },
  {
   "cell_type": "markdown",
   "metadata": {
    "id": "fqLZxiarEne5"
   },
   "source": [
    "### `Q3:` Write a program to Check if a given string is binary string of or not.\n",
    "\n",
    "A string is said to be binary if it's consists of only two unique characters.\n",
    "\n",
    "Take string input from user.\n",
    "\n",
    "```\n",
    "Input: str = \"01010101010\"\n",
    "Output: Yes\n",
    "\n",
    "Input: str = \"1222211\"\n",
    "Output: Yes\n",
    "\n",
    "Input: str = \"Campusx\"\n",
    "Output: No\n",
    "```"
   ]
  },
  {
   "cell_type": "code",
   "execution_count": 15,
   "metadata": {
    "id": "5M5v8LoYrXkE"
   },
   "outputs": [
    {
     "name": "stdin",
     "output_type": "stream",
     "text": [
      "Enter a string:  10101010\n"
     ]
    },
    {
     "name": "stdout",
     "output_type": "stream",
     "text": [
      "Yes\n"
     ]
    }
   ],
   "source": [
    "# write your code here\n",
    "str1 = input(\"Enter a string: \")\n",
    "# print(sorted(set(str1)))\n",
    "if(sorted(set(str1)) == ['0','1']):\n",
    "    print(\"Yes\")\n",
    "else:\n",
    "    print(\"No\")"
   ]
  },
  {
   "cell_type": "markdown",
   "metadata": {
    "id": "xXS8wYH1mDqx"
   },
   "source": [
    "### `Q4`: find union of n arrays.\n",
    "\n",
    "**Example 1:**\n",
    "\n",
    "Input:\n",
    "```bash\n",
    "[[1, 2, 2, 4, 3, 6],\n",
    " [5, 1, 3, 4],\n",
    " [9, 5, 7, 1],\n",
    " [2, 4, 1, 3]]\n",
    "```\n",
    "\n",
    "Output:\n",
    "\n",
    "```bash\n",
    "[1, 2, 3, 4, 5, 6, 7, 9]\n",
    "```"
   ]
  },
  {
   "cell_type": "code",
   "execution_count": 3,
   "metadata": {
    "id": "FVNyK6MbncU8"
   },
   "outputs": [
    {
     "name": "stdout",
     "output_type": "stream",
     "text": [
      "[1, 2, 3, 4, 5, 6, 7, 9]\n"
     ]
    }
   ],
   "source": [
    "# write your code here\n",
    "lst = [[1, 2, 2, 4, 3, 6],\n",
    " [5, 1, 3, 4],\n",
    " [9, 5, 7, 1],\n",
    " [2, 4, 1, 3]]\n",
    "\n",
    "result = set()\n",
    "for i in range(0,len(lst)):\n",
    "    result = result.union(set(lst[i]))\n",
    "print(list(result))"
   ]
  },
  {
   "cell_type": "markdown",
   "metadata": {
    "id": "T_Re21BdndOz"
   },
   "source": [
    "### `Q5`: Intersection of two lists. Intersection of two list means we need to take all those elements which are common to both of the initial lists and store them into another list. Only use using **list-comprehension**.\n",
    "\n",
    "**Example 1:**\n",
    "\n",
    "Input:\n",
    "```bash\n",
    "lst1 = {15, 9, 10, 56, 23, 78, 5, 4, 9}\n",
    "lst2 = {9, 4, 5, 36, 47, 26, 10, 45, 87}\n",
    "```\n",
    "\n",
    "Output:\n",
    "```bash\n",
    "[9, 10, 4, 5]\n",
    "```\n",
    "\n",
    "**Example 2:**\n",
    "\n",
    "Input:\n",
    "```bash\n",
    "lst1 = {4, 9, 1, 17, 11, 26, 28, 54, 69}\n",
    "lst2 = {9, 9, 74, 21, 45, 11, 63, 28, 26}\n",
    "```\n",
    "\n",
    "Output:\n",
    "```bash\n",
    "[9, 11, 26, 28]\n",
    "```"
   ]
  },
  {
   "cell_type": "code",
   "execution_count": 7,
   "metadata": {
    "id": "nWnL25ftoLVT"
   },
   "outputs": [
    {
     "name": "stdin",
     "output_type": "stream",
     "text": [
      "Enter first List:  [1]\n",
      "Enter second list:  [2]\n"
     ]
    },
    {
     "name": "stdout",
     "output_type": "stream",
     "text": [
      "[set()]\n"
     ]
    }
   ],
   "source": [
    "# write your code here\n",
    "lst1 = eval(input(\"Enter first List: \"))\n",
    "lst2 = eval(input(\"Enter second list: \"))\n",
    "result = [set(lst1).intersection(set(lst2))]\n",
    "print(result)"
   ]
  },
  {
   "cell_type": "markdown",
   "metadata": {
    "id": "tD2RSYn1a8oA"
   },
   "source": [
    "# Dictionary"
   ]
  },
  {
   "cell_type": "markdown",
   "metadata": {
    "id": "7tUjHhcPbQzQ"
   },
   "source": [
    "### `Q1`: Key with maximum unique values\n",
    "\n",
    "Given a dictionary with values list, extract key whose value has most unique values.\n",
    "\n",
    "**Example 1:**\n",
    "\n",
    "Input:\n",
    "\n",
    "```bash\n",
    "test_dict = {\"CampusX\" : [5, 7, 9, 4, 0], \"is\" : [6, 7, 4, 3, 3], \"Best\" : [9, 9, 6, 5, 5]}\n",
    "```\n",
    "\n",
    "Output:\n",
    "```bash\n",
    "CampusX\n",
    "```\n",
    "\n",
    "**Example 2:**\n",
    "\n",
    "Input:\n",
    "```bash\n",
    "test_dict = {\"CampusX\" : [5, 7, 7, 7, 7], \"is\" : [6, 7, 7, 7], \"Best\" : [9, 9, 6, 5, 5]}\n",
    "```\n",
    "\n",
    "Output:\n",
    "```bash\n",
    "Best\n",
    "```"
   ]
  },
  {
   "cell_type": "code",
   "execution_count": 14,
   "metadata": {
    "id": "N8KHX863lNxL"
   },
   "outputs": [
    {
     "name": "stdout",
     "output_type": "stream",
     "text": [
      "Best\n"
     ]
    }
   ],
   "source": [
    "# write your code here\n",
    "test_dict = {\"CampusX\" : [5, 7, 7, 7, 7], \"is\" : [6, 7, 7, 7], \"Best\" : [9, 9, 6, 5, 5]}\n",
    "maxx = 0;\n",
    "result = \"\"\n",
    "for key in test_dict:\n",
    "    if (len(set(test_dict[key])) > maxx):\n",
    "        result = key\n",
    "        maxx = len(set(test_dict[key]))\n",
    "print(result)"
   ]
  },
  {
   "cell_type": "markdown",
   "metadata": {
    "id": "_S5X6C84dWdJ"
   },
   "source": [
    "### `Q2`: Replace words from Dictionary. Given String, replace it’s words from lookup dictionary.\n",
    "\n",
    "**Example 1:**\n",
    "\n",
    "Input:\n",
    "\n",
    "```bash\n",
    "test_str = 'CampusX best for DS students.'\n",
    "repl_dict = {\"best\" : \"is the best channel\", \"DS\" : \"Data-Science\"}\n",
    "```\n",
    "\n",
    "Output:\n",
    "\n",
    "```bash\n",
    "CampusX is the best channel for Data-Science students.\n",
    "```\n",
    "\n",
    "**Example 2:**\n",
    "\n",
    "Input:\n",
    "```bash\n",
    "test_str = 'CampusX best for DS students.'\n",
    "repl_dict = {\"good\" : \"is the best channel\", \"ds\" : \"Data-Science\"}\n",
    "```\n",
    "\n",
    "Output:\n",
    "```bash\n",
    "CampusX best for DS students.\n",
    "```"
   ]
  },
  {
   "cell_type": "code",
   "execution_count": 28,
   "metadata": {
    "id": "BTAQ8qnrlOxr"
   },
   "outputs": [
    {
     "name": "stdout",
     "output_type": "stream",
     "text": [
      "CampusX is the best channel for Data-Science students. \n"
     ]
    }
   ],
   "source": [
    "# write your code here\n",
    "test_str = 'CampusX best for DS students.'\n",
    "repl_dict = {\"best\" : \"is the best channel\", \"DS\" : \"Data-Science\"}\n",
    "result = \"\"\n",
    "for i in test_str.split():\n",
    "    if(repl_dict.get(i)!= None):\n",
    "        result+=repl_dict[i]\n",
    "    else:\n",
    "        result+=i\n",
    "    result += \" \"\n",
    "print(result)"
   ]
  },
  {
   "cell_type": "markdown",
   "metadata": {
    "id": "55xgap3zfbcR"
   },
   "source": [
    "### `Q3`: Convert List to List of dictionaries. Given list values and keys list, convert these values to key value pairs in form of list of dictionaries.\n",
    "\n",
    "**Example 1:**\n",
    "\n",
    "Input:\n",
    "```bash\n",
    "test_list = [\"DataScience\", 3, \"is\", 8]\n",
    "key_list = [\"name\", \"id\"]\n",
    "```\n",
    "\n",
    "Output:\n",
    "\n",
    "```bash\n",
    "[{'name': 'DataScience', 'id': 3}, {'name': 'is', 'id': 8}]\n",
    "```\n",
    "\n",
    "**Example 2:**\n",
    "\n",
    "Input:\n",
    "```bash\n",
    "test_list = [\"CampusX\", 10]\n",
    "key_list = [\"name\", \"id\"]\n",
    "```\n",
    "\n",
    "Output:\n",
    "\n",
    "```bash\n",
    "[{'name': 'CampusX', 'id': 10}]\n",
    "```"
   ]
  },
  {
   "cell_type": "code",
   "execution_count": 59,
   "metadata": {
    "id": "jbCajI87lQFr"
   },
   "outputs": [
    {
     "name": "stdout",
     "output_type": "stream",
     "text": [
      "[{'name': 'DataScience', 'id': 3}, {'name': 'is', 'id': 8}]\n"
     ]
    }
   ],
   "source": [
    "# write your code here\n",
    "test_list = [\"DataScience\", 3, \"is\", 8]\n",
    "key_list = [\"name\", \"id\"]\n",
    "result = []\n",
    "for i in range(0,len(test_list),len(key_list)):\n",
    "    my_dict = {}\n",
    "    for j in key_list:\n",
    "        my_dict[j] = test_list[i]\n",
    "        i+=1\n",
    "    result.append(my_dict)\n",
    "print(result)             "
   ]
  },
  {
   "cell_type": "markdown",
   "metadata": {
    "id": "5RxBlLQahLkB"
   },
   "source": [
    "### `Q4`: Convert a list of Tuples into Dictionary.\n",
    "\n",
    "**Example 1:**\n",
    "\n",
    "Input:\n",
    "```bash\n",
    "[(\"akash\", 10), (\"gaurav\", 12), (\"anand\", 14), (\"suraj\", 20), (\"akhil\", 25), (\"ashish\", 30)]\n",
    "```\n",
    "\n",
    "Output:\n",
    "```bash\n",
    "{'akash': [10], 'gaurav': [12], 'anand': [14], 'suraj': [20], 'akhil': [25], 'ashish': [30]}\n",
    "```\n",
    "\n",
    "**Example 2:**\n",
    "\n",
    "Input:\n",
    "```bash\n",
    "[('A', 1), ('B', 2), ('C', 3)]\n",
    "```\n",
    "\n",
    "Output:\n",
    "```bash\n",
    "{'A': [1], 'B': [2], 'C': [3]}\n",
    "```"
   ]
  },
  {
   "cell_type": "code",
   "execution_count": 32,
   "metadata": {
    "id": "f1yz7inMlQ5N"
   },
   "outputs": [
    {
     "name": "stdout",
     "output_type": "stream",
     "text": [
      "{'akash': [10], 'gaurav': [12], 'anand': [14], 'suraj': [20], 'akhil': [25], 'ashish': [30]}\n"
     ]
    }
   ],
   "source": [
    "# write your code here\n",
    "lot  = [(\"akash\", 10), (\"gaurav\", 12), (\"anand\", 14), (\"suraj\", 20), (\"akhil\", 25), (\"ashish\", 30)]\n",
    "dict = {}\n",
    "for i in lot:\n",
    "    dict[i[0]] = [i[1]]\n",
    "print(dict)\n"
   ]
  },
  {
   "cell_type": "markdown",
   "metadata": {
    "id": "Fz8EzJD-kBkS"
   },
   "source": [
    "### `Q5`: Sort Dictionary key and values List.\n",
    "\n",
    "**Example 1:**\n",
    "\n",
    "Input:\n",
    "\n",
    "```bash\n",
    "{'c': [3], 'b': [12, 10], 'a': [19, 4]}\n",
    "```\n",
    "\n",
    "Output:\n",
    "\n",
    "```bash\n",
    "{'a': [4, 19], 'b': [10, 12], 'c': [3]}\n",
    "```\n",
    "\n",
    "**Example 2:**\n",
    "\n",
    "Input:\n",
    "\n",
    "```bash\n",
    "{'c': [10, 34, 3]}\n",
    "```\n",
    "\n",
    "Output:\n",
    "\n",
    "```bash\n",
    "{'c': [3, 10, 34]}\n",
    "```"
   ]
  },
  {
   "cell_type": "code",
   "execution_count": 50,
   "metadata": {
    "id": "x9UmJ4EQk7Pp"
   },
   "outputs": [
    {
     "name": "stdout",
     "output_type": "stream",
     "text": [
      "{'a': [4, 19], 'b': [10, 12], 'c': [3]}\n"
     ]
    }
   ],
   "source": [
    "# write your code here\n",
    "my_dict = {'c': [3], 'b': [12, 10], 'a': [19, 4]}\n",
    "sorted_list = sorted(my_dict.items())\n",
    "sorted_dict = {}\n",
    "for key,value in sorted_list:\n",
    "    sorted_dict[key] = sorted(value)\n",
    "print(sorted_dict)"
   ]
  },
  {
   "cell_type": "code",
   "execution_count": null,
   "metadata": {},
   "outputs": [],
   "source": []
  },
  {
   "cell_type": "code",
   "execution_count": null,
   "metadata": {},
   "outputs": [],
   "source": []
  }
 ],
 "metadata": {
  "colab": {
   "provenance": []
  },
  "kernelspec": {
   "display_name": "Python 3 (ipykernel)",
   "language": "python",
   "name": "python3"
  },
  "language_info": {
   "codemirror_mode": {
    "name": "ipython",
    "version": 3
   },
   "file_extension": ".py",
   "mimetype": "text/x-python",
   "name": "python",
   "nbconvert_exporter": "python",
   "pygments_lexer": "ipython3",
   "version": "3.11.5"
  }
 },
 "nbformat": 4,
 "nbformat_minor": 4
}
