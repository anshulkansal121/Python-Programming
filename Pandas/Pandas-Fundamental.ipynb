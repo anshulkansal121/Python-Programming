{
 "cells": [
  {
   "cell_type": "markdown",
   "id": "5ac6c21f-0c9e-4efa-a583-d6eab70b87a2",
   "metadata": {},
   "source": [
    "### PANDAS SERIES"
   ]
  },
  {
   "cell_type": "code",
   "execution_count": 1,
   "id": "522e30c1-f197-47a9-95b7-1e2778b1a434",
   "metadata": {},
   "outputs": [
    {
     "name": "stdout",
     "output_type": "stream",
     "text": [
      "Collecting pandas\n",
      "  Downloading pandas-2.3.3-cp313-cp313-macosx_11_0_arm64.whl.metadata (91 kB)\n",
      "Requirement already satisfied: numpy>=1.26.0 in /Library/Frameworks/Python.framework/Versions/3.13/lib/python3.13/site-packages (from pandas) (2.3.3)\n",
      "Requirement already satisfied: python-dateutil>=2.8.2 in /Library/Frameworks/Python.framework/Versions/3.13/lib/python3.13/site-packages (from pandas) (2.9.0.post0)\n",
      "Collecting pytz>=2020.1 (from pandas)\n",
      "  Downloading pytz-2025.2-py2.py3-none-any.whl.metadata (22 kB)\n",
      "Collecting tzdata>=2022.7 (from pandas)\n",
      "  Downloading tzdata-2025.2-py2.py3-none-any.whl.metadata (1.4 kB)\n",
      "Requirement already satisfied: six>=1.5 in /Library/Frameworks/Python.framework/Versions/3.13/lib/python3.13/site-packages (from python-dateutil>=2.8.2->pandas) (1.17.0)\n",
      "Downloading pandas-2.3.3-cp313-cp313-macosx_11_0_arm64.whl (10.7 MB)\n",
      "\u001b[2K   \u001b[90m━━━━━━━━━━━━━━━━━━━━━━━━━━━━━━━━━━━━━━━━\u001b[0m \u001b[32m10.7/10.7 MB\u001b[0m \u001b[31m17.9 MB/s\u001b[0m  \u001b[33m0:00:00\u001b[0meta \u001b[36m0:00:01\u001b[0m\n",
      "\u001b[?25hDownloading pytz-2025.2-py2.py3-none-any.whl (509 kB)\n",
      "Downloading tzdata-2025.2-py2.py3-none-any.whl (347 kB)\n",
      "Installing collected packages: pytz, tzdata, pandas\n",
      "\u001b[2K   \u001b[90m━━━━━━━━━━━━━━━━━━━━━━━━━━━━━━━━━━━━━━━━\u001b[0m \u001b[32m3/3\u001b[0m [pandas]2m2/3\u001b[0m [pandas]\n",
      "\u001b[1A\u001b[2KSuccessfully installed pandas-2.3.3 pytz-2025.2 tzdata-2025.2\n"
     ]
    }
   ],
   "source": [
    "!pip3 install pandas"
   ]
  },
  {
   "cell_type": "code",
   "execution_count": 2,
   "id": "a49a83fc-1584-4bf3-bd8e-b31c5d7f245c",
   "metadata": {},
   "outputs": [],
   "source": [
    "# Importing\n",
    "import numpy as np\n",
    "import pandas as pd\n",
    "import requests\n",
    "from io import StringIO\n",
    "import warnings"
   ]
  },
  {
   "cell_type": "markdown",
   "id": "9e5ff09a-876b-4b98-9173-9b96c91d803d",
   "metadata": {},
   "source": [
    "# Series\n",
    "`Series` is a one-dimensional labeled array capable of holding any data type (integers, strings, floating point numbers, Python objects, etc.). The axis labels are collectively referred to as the index. The basic method to create a Series is to call:\n",
    "```python\n",
    "s = pd.Series(data, index=index)\n",
    "```\n",
    "\n",
    "Here, **data** can be many different things:\n",
    "* Python dict\n",
    "\n",
    "* an ndarray\n",
    "\n",
    "* a scalar value (like 5)\n",
    "\n",
    "The passed index is a list of axis labels. Thus, this separates into a few cases depending on what data is:\n",
    "\n",
    "**From ndarray**\n",
    "  - If data is an ndarray, index must be the same length as data. If no index is passed, one will be created having values [0, ..., len(data) - 1].\n",
    "\n",
    "**From Dict**\n",
    "  - If an index is passed, the values in data corresponding to the labels in the index will be pulled out.\n",
    "\n",
    "**From Scaler**\n",
    "  - If data is a scalar value, an index must be provided. The value will be repeated to match the length of index."
   ]
  },
  {
   "cell_type": "code",
   "execution_count": 3,
   "id": "830d1511-f4f2-4b71-b08f-4f7f98a912b3",
   "metadata": {},
   "outputs": [
    {
     "data": {
      "text/plain": [
       "A    5\n",
       "B    5\n",
       "C    5\n",
       "D    5\n",
       "dtype: int64"
      ]
     },
     "execution_count": 3,
     "metadata": {},
     "output_type": "execute_result"
    }
   ],
   "source": [
    "# Pandas Series Creation\n",
    "# Method 1: Through List\n",
    "\n",
    "# Series creation with default indexes\n",
    "countries = ['India',\"Pakistan\",\"US\",\"Russia\",\"UK\"]\n",
    "pd.Series(countries)\n",
    "\n",
    "# Series with integer values\n",
    "marks = [50,60,70,80]\n",
    "pd.Series(marks)\n",
    "\n",
    "# Series creation with custom indexing\n",
    "subject = [\"Social Science\",\"Maths\",\"English\",\"Science\"]\n",
    "marks_series = pd.Series(marks,index = subject)\n",
    "\n",
    "# Method 2: Through dictionaries\n",
    "marks = {\n",
    "    'maths':67,\n",
    "    'english':57,\n",
    "    'science':89,\n",
    "    'hindi':100\n",
    "}\n",
    "pd.Series(marks)\n",
    "\n",
    "# Methid 3 : From Scaler\n",
    "pd.Series(5,index = ['A','B','C','D'])"
   ]
  },
  {
   "cell_type": "markdown",
   "id": "d9ce9ce0-fdbf-4bf1-837e-5769ff47528b",
   "metadata": {},
   "source": [
    "### Series Attribute\n",
    "* name - returns the name of the series\n",
    "* size - returns the axis dimensions of the object, consistent with ndarray\n",
    "* dtype - returns the datatype of the series\n",
    "* index - returns the list of indexes of the series\n",
    "* values - returns the list of values of the series\n"
   ]
  },
  {
   "cell_type": "code",
   "execution_count": 4,
   "id": "da6fa47e-3ba6-4e45-a36e-8af59bcf0c8d",
   "metadata": {},
   "outputs": [
    {
     "name": "stdout",
     "output_type": "stream",
     "text": [
      "4\n",
      "int64\n",
      "Index(['Social Science', 'Maths', 'English', 'Science'], dtype='object')\n",
      "[50 60 70 80]\n",
      "False\n"
     ]
    }
   ],
   "source": [
    "print(marks_series.size)\n",
    "print(marks_series.dtype)\n",
    "print(marks_series.index)\n",
    "print(marks_series.values)\n",
    "print(marks_series.empty)"
   ]
  },
  {
   "cell_type": "markdown",
   "id": "d6023067-2212-4877-b737-9476a1c53719",
   "metadata": {},
   "source": [
    "### Series import using CSV\n",
    "- by default pandas read_csv method import the data as type = dataFrame but if we want to import it as a series then we can use .squeeze() to convert it into dataframe.\n",
    "- Note: Before pandas 20 this squeeze is an attribute of read_csv method"
   ]
  },
  {
   "cell_type": "code",
   "execution_count": 5,
   "id": "ee849a5a-ec7a-4f9f-b869-63e91ca59b4c",
   "metadata": {},
   "outputs": [],
   "source": [
    "def dataset(link):\n",
    "    warnings.filterwarnings('ignore', message='Unverified HTTPS request')\n",
    "    response = requests.get(link, verify=False)\n",
    "    if response.status_code == 200:\n",
    "        return StringIO(response.text)"
   ]
  },
  {
   "cell_type": "code",
   "execution_count": 6,
   "id": "7d8c9cdb-bba0-48f9-9ea8-bc0581777ea2",
   "metadata": {},
   "outputs": [
    {
     "data": {
      "text/plain": [
       "0       48\n",
       "1       57\n",
       "2       40\n",
       "3       43\n",
       "4       44\n",
       "      ... \n",
       "360    231\n",
       "361    226\n",
       "362    155\n",
       "363    144\n",
       "364    172\n",
       "Name: Subscribers gained, Length: 365, dtype: int64"
      ]
     },
     "execution_count": 6,
     "metadata": {},
     "output_type": "execute_result"
    }
   ],
   "source": [
    "# Dataset - 1\n",
    "subs = pd.read_csv(dataset(\"https://drive.google.com/uc?export=download&id=1XQTnOAlodSzEqIQ0sJjnOv5zpG57OB4S\")).squeeze()\n",
    "subs"
   ]
  },
  {
   "cell_type": "code",
   "execution_count": 7,
   "id": "a0143ef7-19b0-45be-9b5e-8fe18e354e33",
   "metadata": {},
   "outputs": [],
   "source": [
    "# Dataset - 2\n",
    "vk = pd.read_csv(dataset(\"https://drive.google.com/uc?export=download&id=19RVdLnwpCEO3GHzA3LuU2JhG7Or3UjFb\"),index_col=\"match_no\").squeeze()"
   ]
  },
  {
   "cell_type": "code",
   "execution_count": 8,
   "id": "d09adcfd-a268-4b8c-b1d9-12a70e4ea54c",
   "metadata": {},
   "outputs": [
    {
     "data": {
      "text/plain": [
       "movie\n",
       "Uri: The Surgical Strike                   Vicky Kaushal\n",
       "Battalion 609                                Vicky Ahuja\n",
       "The Accidental Prime Minister (film)         Anupam Kher\n",
       "Why Cheat India                            Emraan Hashmi\n",
       "Evening Shadows                         Mona Ambegaonkar\n",
       "                                              ...       \n",
       "Hum Tumhare Hain Sanam                    Shah Rukh Khan\n",
       "Aankhen (2002 film)                     Amitabh Bachchan\n",
       "Saathiya (film)                             Vivek Oberoi\n",
       "Company (film)                                Ajay Devgn\n",
       "Awara Paagal Deewana                        Akshay Kumar\n",
       "Name: lead, Length: 1500, dtype: object"
      ]
     },
     "execution_count": 8,
     "metadata": {},
     "output_type": "execute_result"
    }
   ],
   "source": [
    "# dataset - 3\n",
    "movies = pd.read_csv(dataset(\"https://drive.google.com/uc?export=download&id=1H6XVxrhbinfe44s-ZHXKaGZF6gW_Qmzg\"),index_col=\"movie\").squeeze()\n",
    "movies"
   ]
  },
  {
   "cell_type": "markdown",
   "id": "b6b5a2d0-15ce-4a6e-9297-c5db79043b54",
   "metadata": {},
   "source": [
    "### Series Method\n",
    "* head() -> retunrs the series first 5 values\n",
    "* tail() -> retunr the series last 5 values\n",
    "* sample() -> return a random entry from the series\n",
    "* value_counts() -> returns the freuqency of every datapoint in the series\n",
    "* sort_values() -> returns the sorted order of the values -> acs default -> not a permanent function\n",
    "* sort_index - >return the sorted order of the index -> asc default -> not a permanent function"
   ]
  },
  {
   "cell_type": "code",
   "execution_count": 9,
   "id": "f15ed88b-7987-4f45-af72-19c0344262c2",
   "metadata": {},
   "outputs": [
    {
     "data": {
      "text/plain": [
       "movie\n",
       "Uri: The Surgical Strike                   Vicky Kaushal\n",
       "Battalion 609                                Vicky Ahuja\n",
       "The Accidental Prime Minister (film)         Anupam Kher\n",
       "Why Cheat India                            Emraan Hashmi\n",
       "Evening Shadows                         Mona Ambegaonkar\n",
       "Name: lead, dtype: object"
      ]
     },
     "execution_count": 9,
     "metadata": {},
     "output_type": "execute_result"
    }
   ],
   "source": [
    "movies.head()"
   ]
  },
  {
   "cell_type": "code",
   "execution_count": 10,
   "id": "6b8d1299-9f31-4e13-96bd-9230321ff15f",
   "metadata": {},
   "outputs": [
    {
     "data": {
      "text/plain": [
       "movie\n",
       "Company (film)            Ajay Devgn\n",
       "Awara Paagal Deewana    Akshay Kumar\n",
       "Name: lead, dtype: object"
      ]
     },
     "execution_count": 10,
     "metadata": {},
     "output_type": "execute_result"
    }
   ],
   "source": [
    "movies.tail(2)"
   ]
  },
  {
   "cell_type": "code",
   "execution_count": 11,
   "id": "515434a3-47eb-47e3-afa7-dd63e78d48e4",
   "metadata": {},
   "outputs": [
    {
     "data": {
      "text/plain": [
       "movie\n",
       "Chori Chori (2003 film)          Ajay Devgn\n",
       "Badla (2019 film)          Amitabh Bachchan\n",
       "Memories in March              Deepti Naval\n",
       "Name: lead, dtype: object"
      ]
     },
     "execution_count": 11,
     "metadata": {},
     "output_type": "execute_result"
    }
   ],
   "source": [
    "movies.sample()\n",
    "# you can specify the no of samples\n",
    "movies.sample(3)"
   ]
  },
  {
   "cell_type": "code",
   "execution_count": 12,
   "id": "2512163f-f9a4-4d87-95b1-cf8362aadc29",
   "metadata": {},
   "outputs": [
    {
     "data": {
      "text/plain": [
       "lead\n",
       "Akshay Kumar        48\n",
       "Amitabh Bachchan    45\n",
       "Ajay Devgn          38\n",
       "Salman Khan         31\n",
       "Sanjay Dutt         26\n",
       "                    ..\n",
       "Diganth              1\n",
       "Parveen Kaur         1\n",
       "Seema Azmi           1\n",
       "Akanksha Puri        1\n",
       "Edwin Fernandes      1\n",
       "Name: count, Length: 566, dtype: int64"
      ]
     },
     "execution_count": 12,
     "metadata": {},
     "output_type": "execute_result"
    }
   ],
   "source": [
    "vk.value_counts()\n",
    "movies.value_counts()"
   ]
  },
  {
   "cell_type": "code",
   "execution_count": 13,
   "id": "bce9d662-cb1a-4751-89cb-032ad6debb0a",
   "metadata": {},
   "outputs": [
    {
     "data": {
      "text/plain": [
       "np.int64(396)"
      ]
     },
     "execution_count": 13,
     "metadata": {},
     "output_type": "execute_result"
    }
   ],
   "source": [
    "subs.sort_values(ascending=False).head(1).values[0]"
   ]
  },
  {
   "cell_type": "code",
   "execution_count": 14,
   "id": "f59284ac-8b5c-410a-9f69-39a323c64fd0",
   "metadata": {},
   "outputs": [
    {
     "data": {
      "text/plain": [
       "movie\n",
       "1920 (film)                   Rajniesh Duggall\n",
       "1920: London                     Sharman Joshi\n",
       "1920: The Evil Returns             Vicky Ahuja\n",
       "1971 (2007 film)                Manoj Bajpayee\n",
       "2 States (2014 film)              Arjun Kapoor\n",
       "                                   ...        \n",
       "Zindagi 50-50                      Veena Malik\n",
       "Zindagi Na Milegi Dobara        Hrithik Roshan\n",
       "Zindagi Tere Naam           Mithun Chakraborty\n",
       "Zokkomon                       Darsheel Safary\n",
       "Zor Lagaa Ke...Haiya!            Meghan Jadhav\n",
       "Name: lead, Length: 1500, dtype: object"
      ]
     },
     "execution_count": 14,
     "metadata": {},
     "output_type": "execute_result"
    }
   ],
   "source": [
    "movies.sort_index()"
   ]
  },
  {
   "cell_type": "markdown",
   "id": "be5dc7db-57bc-451e-a5be-a9b2c2cffdc3",
   "metadata": {},
   "source": [
    "### Series Maths Method\n",
    "\n",
    "* count\n",
    "* sum, product\n",
    "* mean,median,mode,std, var\n",
    "* min\n",
    "* max\n",
    "* describe"
   ]
  },
  {
   "cell_type": "code",
   "execution_count": 15,
   "id": "305cb8d3-c64a-4ea1-b485-373137a45b8e",
   "metadata": {},
   "outputs": [
    {
     "name": "stdout",
     "output_type": "stream",
     "text": [
      "215\n"
     ]
    }
   ],
   "source": [
    "print(vk.count())"
   ]
  },
  {
   "cell_type": "code",
   "execution_count": 16,
   "id": "54fad3db-3c62-43c5-9844-24ba59af3ce8",
   "metadata": {},
   "outputs": [
    {
     "name": "stdout",
     "output_type": "stream",
     "text": [
      "49510\n"
     ]
    }
   ],
   "source": [
    "print(subs.sum())"
   ]
  },
  {
   "cell_type": "code",
   "execution_count": 20,
   "id": "6c900da9-7e3c-411a-8621-d0606da5f20a",
   "metadata": {},
   "outputs": [
    {
     "name": "stdout",
     "output_type": "stream",
     "text": [
      "135.64383561643837\n",
      "123.0\n",
      "0    Akshay Kumar\n",
      "Name: lead, dtype: object\n"
     ]
    }
   ],
   "source": [
    "print(subs.mean())\n",
    "print(subs.median())\n",
    "print(movies.mode())"
   ]
  },
  {
   "cell_type": "code",
   "execution_count": 22,
   "id": "26ddb65d-cb67-4490-93f9-46170eaa6db4",
   "metadata": {},
   "outputs": [
    {
     "name": "stdout",
     "output_type": "stream",
     "text": [
      "33\n",
      "396\n"
     ]
    }
   ],
   "source": [
    "print(subs.min())\n",
    "print(subs.max())"
   ]
  },
  {
   "cell_type": "code",
   "execution_count": 23,
   "id": "0ea18d8e-289f-428d-bfda-eb8beb76c3a6",
   "metadata": {},
   "outputs": [
    {
     "data": {
      "text/plain": [
       "count    365.000000\n",
       "mean     135.643836\n",
       "std       62.675023\n",
       "min       33.000000\n",
       "25%       88.000000\n",
       "50%      123.000000\n",
       "75%      177.000000\n",
       "max      396.000000\n",
       "Name: Subscribers gained, dtype: float64"
      ]
     },
     "execution_count": 23,
     "metadata": {},
     "output_type": "execute_result"
    }
   ],
   "source": [
    "subs.describe()"
   ]
  },
  {
   "cell_type": "markdown",
   "id": "a84a9557-aa89-46d4-9611-eb82de40b59b",
   "metadata": {},
   "source": [
    "### Indexing & Slicing"
   ]
  },
  {
   "cell_type": "code",
   "execution_count": 24,
   "id": "2e01fc27-5e6e-4bb3-90ad-1274be622027",
   "metadata": {},
   "outputs": [
    {
     "data": {
      "text/plain": [
       "np.int64(13)"
      ]
     },
     "execution_count": 24,
     "metadata": {},
     "output_type": "execute_result"
    }
   ],
   "source": [
    "# Indexing\n",
    "vk[3]"
   ]
  },
  {
   "cell_type": "code",
   "execution_count": 27,
   "id": "48608919-4b35-45f7-b5f6-3b4009b64418",
   "metadata": {},
   "outputs": [
    {
     "name": "stderr",
     "output_type": "stream",
     "text": [
      "/var/folders/n2/xblt95t12h7cjhv3hf2dtsw00000gn/T/ipykernel_17300/2731571422.py:1: FutureWarning: Series.__getitem__ treating keys as positions is deprecated. In a future version, integer keys will always be treated as labels (consistent with DataFrame behavior). To access a value by position, use `ser.iloc[pos]`\n",
      "  movies[-1]\n"
     ]
    },
    {
     "data": {
      "text/plain": [
       "'Akshay Kumar'"
      ]
     },
     "execution_count": 27,
     "metadata": {},
     "output_type": "execute_result"
    }
   ],
   "source": [
    "movies[-1]"
   ]
  },
  {
   "cell_type": "code",
   "execution_count": 28,
   "id": "d1c10308-d1b0-4333-a806-76e15342b5e3",
   "metadata": {},
   "outputs": [
    {
     "data": {
      "text/plain": [
       "match_no\n",
       "6      9\n",
       "7     34\n",
       "8      0\n",
       "9     21\n",
       "10     3\n",
       "11    10\n",
       "12    38\n",
       "13     3\n",
       "14    11\n",
       "15    50\n",
       "16     2\n",
       "17    22\n",
       "18    19\n",
       "19    16\n",
       "Name: runs, dtype: int64"
      ]
     },
     "execution_count": 28,
     "metadata": {},
     "output_type": "execute_result"
    }
   ],
   "source": [
    "vk[5:19]"
   ]
  },
  {
   "cell_type": "code",
   "execution_count": 29,
   "id": "e957c7fe-ab0d-46c0-b053-44f3d745151b",
   "metadata": {},
   "outputs": [
    {
     "data": {
      "text/plain": [
       "match_no\n",
       "3     13\n",
       "6      9\n",
       "7     34\n",
       "15    50\n",
       "Name: runs, dtype: int64"
      ]
     },
     "execution_count": 29,
     "metadata": {},
     "output_type": "execute_result"
    }
   ],
   "source": [
    "vk[[3,6,7,15]]"
   ]
  },
  {
   "cell_type": "code",
   "execution_count": 30,
   "id": "3993f920-3fe6-4d7e-b4e8-470f45532477",
   "metadata": {},
   "outputs": [
    {
     "data": {
      "text/plain": [
       "'Rajniesh Duggall'"
      ]
     },
     "execution_count": 30,
     "metadata": {},
     "output_type": "execute_result"
    }
   ],
   "source": [
    "movies['1920 (film)']"
   ]
  },
  {
   "cell_type": "markdown",
   "id": "da00a12b-22b3-43e8-9b57-62c8f4055a60",
   "metadata": {},
   "source": [
    "### Series with Python Functionalities\n"
   ]
  },
  {
   "cell_type": "code",
   "execution_count": 36,
   "id": "88a86b05-ee70-4b1b-8248-3432e71b81fa",
   "metadata": {},
   "outputs": [
    {
     "name": "stdout",
     "output_type": "stream",
     "text": [
      "365\n",
      "<class 'pandas.core.series.Series'>\n",
      "33\n",
      "396\n",
      "[0, 0, 0, 0, 0, 0, 0, 0, 0, 1, 1, 1, 1, 1, 1, 1, 1, 2, 2, 3, 3, 3, 3, 3, 4, 4, 4, 4, 4, 5, 5, 5, 5, 5, 6, 6, 6, 6, 7, 7, 7, 7, 8, 8, 8, 8, 8, 8, 9, 9, 9, 9, 9, 9, 9, 10, 10, 10, 11, 11, 11, 12, 12, 12, 12, 12, 12, 12, 12, 13, 13, 13, 13, 14, 14, 14, 14, 15, 15, 16, 16, 16, 16, 16, 17, 17, 18, 18, 18, 18, 19, 19, 19, 20, 20, 20, 20, 21, 21, 21, 22, 22, 23, 23, 23, 23, 24, 24, 24, 25, 25, 25, 25, 25, 27, 27, 27, 28, 29, 30, 30, 30, 31, 31, 31, 32, 32, 32, 33, 33, 33, 33, 34, 34, 34, 35, 35, 35, 35, 35, 35, 36, 37, 38, 38, 38, 38, 39, 39, 39, 41, 41, 41, 42, 42, 43, 43, 44, 45, 46, 48, 48, 48, 48, 49, 50, 50, 51, 51, 51, 52, 53, 54, 54, 55, 56, 56, 57, 57, 57, 58, 58, 58, 58, 62, 62, 64, 65, 67, 67, 67, 68, 70, 70, 71, 72, 72, 73, 73, 73, 75, 75, 79, 80, 82, 84, 90, 92, 93, 99, 100, 100, 108, 109, 113]\n"
     ]
    }
   ],
   "source": [
    "# len/min/type/dir/sorted\n",
    "print(len(subs))\n",
    "print(type(movies))\n",
    "print(min(subs))\n",
    "print(max(subs))\n",
    "print(sorted(vk))"
   ]
  },
  {
   "cell_type": "code",
   "execution_count": 37,
   "id": "7ce2df56-fc08-4cea-b114-d00206e26e62",
   "metadata": {},
   "outputs": [
    {
     "data": {
      "text/plain": [
       "[50, 60, 70, 80]"
      ]
     },
     "execution_count": 37,
     "metadata": {},
     "output_type": "execute_result"
    }
   ],
   "source": [
    "# type conversion\n",
    "list(marks_series)"
   ]
  },
  {
   "cell_type": "code",
   "execution_count": 38,
   "id": "247e6c1b-e50c-45d4-b52d-24cb7f2401c1",
   "metadata": {},
   "outputs": [
    {
     "data": {
      "text/plain": [
       "{'Social Science': np.int64(50),\n",
       " 'Maths': np.int64(60),\n",
       " 'English': np.int64(70),\n",
       " 'Science': np.int64(80)}"
      ]
     },
     "execution_count": 38,
     "metadata": {},
     "output_type": "execute_result"
    }
   ],
   "source": [
    "dict(marks_series)"
   ]
  },
  {
   "cell_type": "code",
   "execution_count": 42,
   "id": "ac10cfd3-a643-4b04-b35e-03b37c592dfc",
   "metadata": {},
   "outputs": [
    {
     "data": {
      "text/plain": [
       "True"
      ]
     },
     "execution_count": 42,
     "metadata": {},
     "output_type": "execute_result"
    }
   ],
   "source": [
    "# Membership operator\n",
    "'Akshay Kumar' in movies.values\n",
    "'1920 (film)' in movies"
   ]
  },
  {
   "cell_type": "code",
   "execution_count": 44,
   "id": "20190c06-209d-4571-8d4c-206f96a174dc",
   "metadata": {},
   "outputs": [
    {
     "data": {
      "text/plain": [
       "Social Science    50\n",
       "Maths             40\n",
       "English           30\n",
       "Science           20\n",
       "dtype: int64"
      ]
     },
     "execution_count": 44,
     "metadata": {},
     "output_type": "execute_result"
    }
   ],
   "source": [
    "# Arithematic operator - Broadcasting\n",
    "100 - marks_series"
   ]
  },
  {
   "cell_type": "code",
   "execution_count": 46,
   "id": "858a1975-0b39-40ac-92d9-1afc840063c9",
   "metadata": {},
   "outputs": [
    {
     "data": {
      "text/plain": [
       "match_no\n",
       "34      58\n",
       "41      71\n",
       "44      56\n",
       "45      67\n",
       "52      70\n",
       "57      57\n",
       "68      73\n",
       "71      51\n",
       "73      58\n",
       "74      65\n",
       "80      57\n",
       "81      93\n",
       "82      99\n",
       "85      56\n",
       "97      67\n",
       "99      73\n",
       "103     51\n",
       "104     62\n",
       "110     82\n",
       "116     75\n",
       "117     79\n",
       "119     80\n",
       "120    100\n",
       "122     52\n",
       "123    108\n",
       "126    109\n",
       "127     75\n",
       "128    113\n",
       "129     54\n",
       "131     54\n",
       "132     62\n",
       "134     64\n",
       "137     55\n",
       "141     58\n",
       "144     57\n",
       "145     92\n",
       "148     68\n",
       "152     70\n",
       "160     84\n",
       "162     67\n",
       "164    100\n",
       "175     72\n",
       "178     90\n",
       "188     72\n",
       "197     51\n",
       "198     53\n",
       "209     58\n",
       "213     73\n",
       "Name: runs, dtype: int64"
      ]
     },
     "execution_count": 46,
     "metadata": {},
     "output_type": "execute_result"
    }
   ],
   "source": [
    "# Relational operator\n",
    "vk[vk > 50]"
   ]
  },
  {
   "cell_type": "code",
   "execution_count": null,
   "id": "b87266c7-096e-4773-aa26-38543f46f494",
   "metadata": {},
   "outputs": [],
   "source": []
  }
 ],
 "metadata": {
  "kernelspec": {
   "display_name": "Python 3 (ipykernel)",
   "language": "python",
   "name": "python3"
  },
  "language_info": {
   "codemirror_mode": {
    "name": "ipython",
    "version": 3
   },
   "file_extension": ".py",
   "mimetype": "text/x-python",
   "name": "python",
   "nbconvert_exporter": "python",
   "pygments_lexer": "ipython3",
   "version": "3.13.7"
  }
 },
 "nbformat": 4,
 "nbformat_minor": 5
}
