{
 "cells": [
  {
   "cell_type": "markdown",
   "metadata": {},
   "source": [
    "# ```Basics of Classes & Object```\n",
    "\n",
    "* Rectangle Class\n",
    "* Bank Class\n",
    "* Computation Class\n",
    "* FlashCard Class\n",
    "* Fraction Class\n",
    "\n",
    "### ```Concepts Covered```\n",
    "\n",
    "* Classes & Object\n",
    "* Class Diagram\n",
    "* Constuctor - Default & Parameterised\n",
    "* Data & Methods\n",
    "* Magic Methods / Dunder Method\n",
    "* Self (pointer to current object)"
   ]
  },
  {
   "cell_type": "markdown",
   "metadata": {
    "id": "FyUJ3PRAsPr4"
   },
   "source": [
    "### `Q-1:` Rectangle Class\n",
    "1. Write a Rectangle class in Python language, allowing you to build a rectangle with length and width attributes.\n",
    "\n",
    "2. Create a Perimeter() method to calculate the perimeter of the rectangle and a Area() method to calculate the area of ​​the rectangle.\n",
    "\n",
    "3. Create a method display() that display the length, width, perimeter and area of an object created using an instantiation on rectangle class."
   ]
  },
  {
   "cell_type": "markdown",
   "metadata": {
    "id": "GxUtOqJfssFK"
   },
   "source": [
    "Eg.\n",
    "After making above classes and methods, on executing below code:-\n",
    "```\n",
    "my_rectangle = Rectangle(3 , 4)\n",
    "my_rectangle.display()\n",
    "```\n",
    "\n",
    "`Output:`\n",
    "```\n",
    "The length of rectangle is:  3\n",
    "The width of rectangle is:  4\n",
    "The perimeter of rectangle is:  14\n",
    "The area of rectangle is:  12\n",
    "```\n"
   ]
  },
  {
   "cell_type": "code",
   "execution_count": 4,
   "metadata": {
    "id": "92_QT-Uj6NBg"
   },
   "outputs": [
    {
     "name": "stdout",
     "output_type": "stream",
     "text": [
      "The length of rectangle is:  3\n",
      "The width of reactangle is:  4\n",
      "The perimeter of rectangle is:  14\n",
      "The area of rectangle is:  12\n"
     ]
    }
   ],
   "source": [
    "# write your code here\n",
    "class Rectangle:\n",
    "    def __init__(self,length,breadth):\n",
    "        self.length = length\n",
    "        self.breadth = breadth\n",
    "    def Perimeter(self):\n",
    "        return 2*(self.length + self.breadth)\n",
    "    def Area(self):\n",
    "        return self.length * self.breadth\n",
    "    def display(self):\n",
    "        print(\"The length of rectangle is: \",self.length)\n",
    "        print(\"The width of reactangle is: \",self.breadth)\n",
    "        print(\"The perimeter of rectangle is: \",self.Perimeter())\n",
    "        print(\"The area of rectangle is: \",self.Area())\n",
    "my_rectangle = Rectangle(3 , 4)\n",
    "my_rectangle.display()"
   ]
  },
  {
   "cell_type": "markdown",
   "metadata": {
    "id": "r_GxrS0Vrdom"
   },
   "source": [
    "### `Q-2: Bank Class`\n",
    "\n",
    "1. Create a Python class called `BankAccount` which represents a bank account, having as attributes: `accountNumber` (numeric type), `name` (name of the account owner as string type), `balance`.\n",
    "2. Create a constructor with parameters: `accountNumber, name, balance`.\n",
    "3. Create a `Deposit()` method which manages the deposit actions.\n",
    "4. Create a `Withdrawal()` method  which manages withdrawals actions.\n",
    "5. Create an `bankFees()` method to apply the bank fees with a percentage of 5% of the balance account.\n",
    "6. Create a `display()` method to display account details.\n",
    "Give the complete code for the  BankAccount class."
   ]
  },
  {
   "cell_type": "markdown",
   "metadata": {
    "id": "qvVkOUJgvTV_"
   },
   "source": [
    "Eg.\n",
    "After making above classes and methods, on executing below code:-\n",
    "```\n",
    "newAccount = BankAccount(2178514584, \"Mandy\" , 2800)\n",
    "\n",
    "newAccount.Withdrawal(700)\n",
    "\n",
    "newAccount.Deposit(1000)\n",
    "\n",
    "newAccount.display()\n",
    "```\n",
    "\n",
    "`Output:`\n",
    "```\n",
    "Account Number :  2178514584\n",
    "Account Name :  Mandy\n",
    "Account Balance :  3100 ₹\n",
    "```"
   ]
  },
  {
   "cell_type": "code",
   "execution_count": 7,
   "metadata": {
    "id": "fUQOmQyA6YDR"
   },
   "outputs": [
    {
     "name": "stdout",
     "output_type": "stream",
     "text": [
      "Account Number:  2178514584\n",
      "Account Name:  Mandy\n",
      "Account Balance:  3100\n"
     ]
    }
   ],
   "source": [
    "# write your code here\n",
    "class BankAccount:\n",
    "    def __init__(self,aNumber,name,balance):\n",
    "        self.accountNumber = aNumber\n",
    "        self.name = name\n",
    "        self.balance = balance\n",
    "    def Deposit(self, amount):\n",
    "        self.balance += amount\n",
    "    def Withdrawal(self, amount):\n",
    "        if(self.balance >= amount):\n",
    "            self.balance -= amount\n",
    "        else:\n",
    "            print(\"Withdrawl amount should not be greater than Balance\" )\n",
    "    def Display(self):\n",
    "        print(\"Account Number: \",self.accountNumber)\n",
    "        print(\"Account Name: \",self.name)\n",
    "        print(\"Account Balance: \",self.balance)\n",
    "\n",
    "newAccount = BankAccount(2178514584, \"Mandy\" , 2800)\n",
    "\n",
    "newAccount.Withdrawal(700)\n",
    "\n",
    "newAccount.Deposit(1000)\n",
    "\n",
    "newAccount.Display()"
   ]
  },
  {
   "cell_type": "markdown",
   "metadata": {
    "id": "QovcQAZTrgGU"
   },
   "source": [
    "### `Q-3:Computation class`\n",
    "\n",
    "1. Create a `Computation` class with a default constructor (without parameters) allowing to perform various calculations on integers numbers.\n",
    "2. Create a method called `Factorial()` which allows to calculate the factorial of an integer n. Integer n as parameter for this method\n",
    "\n",
    "3. Create a method called `naturalSum()` allowing to calculate the sum of the first n integers 1 + 2 + 3 + .. + n. Integer n as parameter for this method.\n",
    "\n",
    "4. Create a method called `testPrime()` in  the Calculation class to test the primality of a given integer n, n is Prime or Not? Integer n as parameter for this method.\n",
    "\n",
    "5. Create  a method called `testPrims()` allowing to test if two numbers are prime between them. Two integers are prime to one another if they have only `1` as their common divisor. Eg. 4 and 9 are prime to each other.\n",
    "\n",
    "5. Create a `tableMult()` method which creates and displays the multiplication table of a given integer. Then create an `allTablesMult()` method to display all the integer multiplication tables 1, 2, 3, ..., 9.\n",
    "\n",
    "6. Create a static `listDiv()` method that gets all the divisors of a given integer on new list called  Ldiv. Create another `listDivPrim()` method that gets all the prime divisors of a given integer."
   ]
  },
  {
   "cell_type": "code",
   "execution_count": 31,
   "metadata": {
    "id": "YEkPH70l6Z-o"
   },
   "outputs": [
    {
     "name": "stdout",
     "output_type": "stream",
     "text": [
      "120\n",
      "False\n",
      "[1, 5]\n"
     ]
    }
   ],
   "source": [
    "# write your code here\n",
    "class Computation:\n",
    "    def __init__(self):\n",
    "        pass\n",
    "        \n",
    "    def Factorial(self,n):\n",
    "        fact = 1\n",
    "        for i in range(1,n+1):\n",
    "            fact*=i\n",
    "        return fact\n",
    "   \n",
    "    def natualSum(self,n):\n",
    "        return n*(n+1)/2\n",
    "    \n",
    "    def testPrime(self,n):\n",
    "        for i in range(2,n//2 +1):\n",
    "            if(n%i==0):\n",
    "                return False\n",
    "        return True\n",
    "        \n",
    "    def testPrims(self,a,b):\n",
    "        pass\n",
    "    def tableMult(self,n):\n",
    "        print(\"Multiplication table of: \",n)\n",
    "        for i in range(1,11):\n",
    "            print(\"{} x {} = {}\".format(n,i,n*i))\n",
    "        print()\n",
    "    def allTablesMult(self):\n",
    "        for i in range(1,10):\n",
    "            self.tableMult(i)\n",
    "    def listDiv(self,n):\n",
    "        Ldiv = []\n",
    "        for i in range(1, n+1):\n",
    "            if(n%i==0):\n",
    "                Ldiv.append(i)\n",
    "        return Ldiv\n",
    "    def listDivPrim(self,n):\n",
    "        lst = self.listDiv(n)\n",
    "        return list(filter(lambda x: self.testPrime(x),lst))        \n",
    "        \n",
    "obj = Computation()\n",
    "print(obj.Factorial(5))\n",
    "print(obj.testPrime(4))\n",
    "# obj.tableMult(5)\n",
    "# obj.allTablesMult()\n",
    "print(obj.listDivPrim(5))\n",
    "        "
   ]
  },
  {
   "cell_type": "markdown",
   "metadata": {
    "id": "0yn23_oEriXa"
   },
   "source": [
    "### `Q-4`: Build flashcard using class in Python.\n",
    "\n",
    "Build a flashcard using class in python. A flashcard is a card having information on both sides, which can be used as an aid in memoization. Flashcards usually have a question on one side and an answer on the other.\n",
    "\n",
    "**Example 1:**\n",
    "\n",
    "Approach:\n",
    "\n",
    "- Create a class named FlashCard.\n",
    "- Initialize dictionary fruits using __init__() method. Here you have to define fruit name as key and it's color as value. E.g., {\"Banana\": \"yellow\", \"Strawberries\": \"pink\"}\n",
    "- Now randomly choose a pair from fruits by using _random_ module and store the key in variable _fruit_ and _value_ in variable color.\n",
    "- Now prompt the user to answer the color of the randomly chosen fruit.\n",
    "- If correct print correct else print wrong.\n",
    "\n",
    "Output:\n",
    "```bash\n",
    "welcome to fruit quiz\n",
    "What is the color of Strawberries\n",
    "pink\n",
    "Correct answer\n",
    "Enter 0, if you want to play again: 0\n",
    "What is the color of watermelon\n",
    "green\n",
    "Correct answer\n",
    "Enter 0, if you want to play again: 1\n",
    "```"
   ]
  },
  {
   "cell_type": "code",
   "execution_count": 16,
   "metadata": {
    "id": "vCrUF6VU6l6w"
   },
   "outputs": [
    {
     "name": "stdout",
     "output_type": "stream",
     "text": [
      "Welcome to Fruit Quiz\n"
     ]
    },
    {
     "name": "stdin",
     "output_type": "stream",
     "text": [
      "What is the color of Banana yellow\n"
     ]
    },
    {
     "name": "stdout",
     "output_type": "stream",
     "text": [
      "Correct Answer\n"
     ]
    },
    {
     "name": "stdin",
     "output_type": "stream",
     "text": [
      "Enter 0, if you want to play again:  0\n",
      "What is the color of Strawberries pink\n"
     ]
    },
    {
     "name": "stdout",
     "output_type": "stream",
     "text": [
      "Correct Answer\n"
     ]
    },
    {
     "name": "stdin",
     "output_type": "stream",
     "text": [
      "Enter 0, if you want to play again:  0\n",
      "What is the color of Banana pink\n"
     ]
    },
    {
     "name": "stdout",
     "output_type": "stream",
     "text": [
      "Wront Answer\n"
     ]
    },
    {
     "name": "stdin",
     "output_type": "stream",
     "text": [
      "Enter 0, if you want to play again:  1\n"
     ]
    }
   ],
   "source": [
    "# write your code here\n",
    "import random\n",
    "class FlashCard:\n",
    "    def __init__(self):\n",
    "        self.fruits = {\"Banana\": \"yellow\", \"Strawberries\": \"pink\"}\n",
    "        self.play()\n",
    "    def play(self):\n",
    "        print(\"Welcome to Fruit Quiz\")\n",
    "        choice = 0\n",
    "        while(choice==0):\n",
    "            fruit = random.choice(list(self.fruits.keys()))\n",
    "            color = input(\"What is the color of {}\".format(fruit))\n",
    "            if(color == self.fruits[fruit]):\n",
    "                print(\"Correct Answer\")\n",
    "            else:\n",
    "                print(\"Wront Answer\")\n",
    "    \n",
    "            choice = eval(input(\"Enter 0, if you want to play again: \"))\n",
    "\n",
    "obj = FlashCard()\n",
    "        \n",
    "        "
   ]
  },
  {
   "cell_type": "markdown",
   "metadata": {
    "id": "GN2r0jbRewYr"
   },
   "source": [
    "## `Q-5:` Problem 5 based on OOP Python.\n",
    "\n",
    "TechWorld, a technology training center, wants to allocate courses for instructors. An instructor is identified by name, technology skills, experience and average feedback. An instructor is allocated a course, if he/she satisfies the below two conditions:\n",
    "- eligibility criteria:\n",
    "    - if experience is more than 3 years, average feedback should be 4.5 or more\n",
    "    - if experience is 3 years or less, average feedback should be 4 or more\n",
    "- he/she should posses the technology skill for the course\n",
    "\n",
    "Identify the class name and attributes to represent instructors. Write a Python program to implement the class chosen with its attributes and methods.\n",
    "\n",
    "**Note:**\n",
    "- Consider all instance variables to be private and methods to be public.\n",
    "- An instructor may have multiple technology skills, so consider instance variable, technology_skill to be a list.\n",
    "- *check_eligibility()*: Return true if eligibility criteria is satisfied by the instructor. Else, return false\n",
    "- *allocate_course(technology)*: Return true if the course which requires the given technology can be allocated to the instructor. Else, return false.\n",
    "\n",
    "Represent a few objects of the class, initialize instance variables using setter methods, invoke\n",
    "appropriate methods and test your program."
   ]
  },
  {
   "cell_type": "code",
   "execution_count": null,
   "metadata": {
    "id": "pdMFuVFnlvKL"
   },
   "outputs": [],
   "source": [
    "# write your code here\n"
   ]
  },
  {
   "cell_type": "markdown",
   "metadata": {},
   "source": [
    "## `Q-6:` Fraction Class."
   ]
  },
  {
   "cell_type": "code",
   "execution_count": 38,
   "metadata": {},
   "outputs": [
    {
     "name": "stdout",
     "output_type": "stream",
     "text": [
      "1 / 2\n",
      "9 / 10\n",
      "1 / 10\n",
      "2 / 10\n",
      "5 / 4\n"
     ]
    }
   ],
   "source": [
    "class Fraction:\n",
    "    def __init__(self,x,y):\n",
    "        self.num = x\n",
    "        self.deno = y\n",
    "    def __str__(self):\n",
    "        return \"{} / {}\".format(self.num,self.deno)\n",
    "    def __add__(self,other):\n",
    "        res_num = self.num * other.deno  + self.deno*other.num\n",
    "        res_deno = other.deno*self.deno\n",
    "        return '{} / {}'.format(res_num,res_deno)\n",
    "    def __sub__(self,other):\n",
    "        res_num = self.num * other.deno - self.deno*other.num\n",
    "        res_deno = other.deno*self.deno\n",
    "        return '{} / {}'.format(res_num,res_deno)\n",
    "    def __mul__(self,other):\n",
    "        res_num = self.num * other.num\n",
    "        res_deno = other.deno*self.deno\n",
    "        return '{} / {}'.format(res_num,res_deno)\n",
    "    def __truediv__(self,other):\n",
    "        res_num = self.num * other.deno\n",
    "        res_deno = other.num*self.deno\n",
    "        return '{} / {}'.format(res_num,res_deno)\n",
    "        \n",
    "\n",
    "fr1 = Fraction(1,2)\n",
    "fr2 = Fraction(2,5)\n",
    "print(fr1)\n",
    "print(fr1 + fr2)\n",
    "print(fr1 - fr2)\n",
    "print(fr1 * fr2)\n",
    "print(fr1 / fr2)"
   ]
  },
  {
   "cell_type": "code",
   "execution_count": null,
   "metadata": {},
   "outputs": [],
   "source": []
  }
 ],
 "metadata": {
  "colab": {
   "provenance": []
  },
  "kernelspec": {
   "display_name": "Python 3 (ipykernel)",
   "language": "python",
   "name": "python3"
  },
  "language_info": {
   "codemirror_mode": {
    "name": "ipython",
    "version": 3
   },
   "file_extension": ".py",
   "mimetype": "text/x-python",
   "name": "python",
   "nbconvert_exporter": "python",
   "pygments_lexer": "ipython3",
   "version": "3.11.5"
  }
 },
 "nbformat": 4,
 "nbformat_minor": 4
}
