{
 "cells": [
  {
   "cell_type": "code",
   "execution_count": 1,
   "id": "7372acb5-6ad8-4a96-a2ef-cfe422279325",
   "metadata": {},
   "outputs": [
    {
     "name": "stdout",
     "output_type": "stream",
     "text": [
      "Requirement already satisfied: nlpcloud in /Library/Frameworks/Python.framework/Versions/3.13/lib/python3.13/site-packages (1.1.47)\n",
      "Requirement already satisfied: requests in /Library/Frameworks/Python.framework/Versions/3.13/lib/python3.13/site-packages (from nlpcloud) (2.32.5)\n",
      "Requirement already satisfied: charset_normalizer<4,>=2 in /Library/Frameworks/Python.framework/Versions/3.13/lib/python3.13/site-packages (from requests->nlpcloud) (3.4.3)\n",
      "Requirement already satisfied: idna<4,>=2.5 in /Library/Frameworks/Python.framework/Versions/3.13/lib/python3.13/site-packages (from requests->nlpcloud) (3.10)\n",
      "Requirement already satisfied: urllib3<3,>=1.21.1 in /Library/Frameworks/Python.framework/Versions/3.13/lib/python3.13/site-packages (from requests->nlpcloud) (2.5.0)\n",
      "Requirement already satisfied: certifi>=2017.4.17 in /Library/Frameworks/Python.framework/Versions/3.13/lib/python3.13/site-packages (from requests->nlpcloud) (2025.8.3)\n"
     ]
    }
   ],
   "source": [
    "!pip3 install nlpcloud"
   ]
  },
  {
   "cell_type": "code",
   "execution_count": 7,
   "id": "a170ac45-fe55-4789-a8d9-be15faf2f0ea",
   "metadata": {},
   "outputs": [
    {
     "name": "stdin",
     "output_type": "stream",
     "text": [
      " \n",
      "        Hello, Welcome! How would you like to proceede.\n",
      "        1. Not a member? Register\n",
      "        2. Already a member? Login\n",
      "        3. Exit\n",
      "         2\n"
     ]
    },
    {
     "name": "stdout",
     "output_type": "stream",
     "text": [
      "Login...\n"
     ]
    },
    {
     "name": "stdin",
     "output_type": "stream",
     "text": [
      "Enter email:  kansalanshul121@gmail.com\n",
      "Enter Password:  Anshul@135#\n"
     ]
    },
    {
     "name": "stdout",
     "output_type": "stream",
     "text": [
      "login Successful.\n"
     ]
    },
    {
     "name": "stdin",
     "output_type": "stream",
     "text": [
      " \n",
      "        Hello, Welcome! How would you like to proceede.\n",
      "        1. NER\n",
      "        2. Language Detection\n",
      "        3. Sentiment Analysis\n",
      "        4. Logout\n",
      "         3\n",
      "Enter a Paragraph:  Sad, when I arrived at the Geeks day conference, I was unfortunately very lost at first. The building is huge and nobody helped me. Why don’t they put up more stupid signs?\n"
     ]
    },
    {
     "name": "stdout",
     "output_type": "stream",
     "text": [
      "{'scored_labels': [{'label': 'NEGATIVE', 'score': 1}, {'label': 'frustration', 'score': 1}]}\n"
     ]
    }
   ],
   "source": [
    "import nlpcloud\n",
    "\n",
    "class NLPApp:\n",
    "    def __init__(self):\n",
    "        self.__database = {'kansalanshul121@gmail.com':['Anshul','Anshul@135#']}\n",
    "        self.__first_menu()\n",
    "    def __first_menu(self):\n",
    "        choice_1 = input(\"\"\" \n",
    "        Hello, Welcome! How would you like to proceede.\n",
    "        1. Not a member? Register\n",
    "        2. Already a member? Login\n",
    "        3. Exit\n",
    "        \"\"\")\n",
    "        if(choice_1 == '1'):\n",
    "            self.__register()\n",
    "        elif(choice_1=='2'):\n",
    "            self.__login()\n",
    "        else:\n",
    "            exit()\n",
    "    def __second_menu(self):\n",
    "        choice_2 = input(\"\"\" \n",
    "        Hello, Welcome! How would you like to proceede.\n",
    "        1. NER\n",
    "        2. Language Detection\n",
    "        3. Sentiment Analysis\n",
    "        4. Logout\n",
    "        \"\"\")\n",
    "        if(choice_2 == '1'):\n",
    "            self.__NER()\n",
    "        elif(choice_2=='2'):\n",
    "            self.__language_detection()\n",
    "        elif choice_2 == '3':\n",
    "            self.__sentiment_analysis()\n",
    "        else:\n",
    "            exit()\n",
    "    def __login(self):\n",
    "        print(\"Login...\")\n",
    "        email = input(\"Enter email: \")\n",
    "        password = input(\"Enter Password: \")\n",
    "        if email in self.__database:\n",
    "            if self.__database[email][1] == password:\n",
    "                print(\"login Successful.\")\n",
    "                self.__second_menu()\n",
    "            else:\n",
    "                print(\"Wrong Password...\")\n",
    "                self.__login()\n",
    "        else:\n",
    "            print(\"This email is not registered! \")\n",
    "            self.__first_menu()\n",
    "    def __register(self):\n",
    "        print(\"Register...\")\n",
    "        name = input(\"Enter Name: \")\n",
    "        email = input(\"Enter Email: \")\n",
    "        password = input(\"Enter Password: \")\n",
    "\n",
    "        if email in  self.__database:\n",
    "            print(\"User email already exists!\")\n",
    "        else:\n",
    "            self.__database[email] = [name,password]\n",
    "            print(\"Registration Successful. You can Login Now.\")\n",
    "            print(self.__database)\n",
    "            self.__first_menu()\n",
    "    def __NER(self):\n",
    "        para = input(\"Enter a paragraph: \")\n",
    "        token = input(\"Enter search entity: \")\n",
    "        client = nlpcloud.Client(\"finetuned-llama-3-70b\", \"ef8b3a7ba1b07a67423f5ab92a0cd865c24aa33a\", gpu=True)\n",
    "        response = client.entities(para,searched_entity=token)\n",
    "        # print(response)\n",
    "        for i in response['entities']:\n",
    "            print(i['text'])\n",
    "    def __sentiment_analysis(self):\n",
    "        para = input(\"Enter a Paragraph: \")\n",
    "        client = nlpcloud.Client(\"finetuned-llama-3-70b\", \"ef8b3a7ba1b07a67423f5ab92a0cd865c24aa33a\", gpu=True)\n",
    "        response = client.sentiment(para)\n",
    "        print('Sentiment of the Paragraph is: {}'.format(response['scored_labels'][1]['label']))\n",
    "    def __language_detection(self):\n",
    "        para = input(\"Enter a Paragraph: \")\n",
    "        client = nlpcloud.Client(\"python-langdetect\", \"ef8b3a7ba1b07a67423f5ab92a0cd865c24aa33a\", gpu=False)\n",
    "        response = client.lang_detection(para)\n",
    "        print(response)\n",
    "obj = NLPApp()"
   ]
  },
  {
   "cell_type": "code",
   "execution_count": null,
   "id": "3936f35d-6c90-4024-935e-866c2e90a319",
   "metadata": {},
   "outputs": [],
   "source": []
  }
 ],
 "metadata": {
  "kernelspec": {
   "display_name": "Python 3 (ipykernel)",
   "language": "python",
   "name": "python3"
  },
  "language_info": {
   "codemirror_mode": {
    "name": "ipython",
    "version": 3
   },
   "file_extension": ".py",
   "mimetype": "text/x-python",
   "name": "python",
   "nbconvert_exporter": "python",
   "pygments_lexer": "ipython3",
   "version": "3.13.7"
  }
 },
 "nbformat": 4,
 "nbformat_minor": 5
}
