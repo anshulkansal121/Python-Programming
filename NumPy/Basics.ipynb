{
 "cells": [
  {
   "cell_type": "code",
   "execution_count": 1,
   "id": "46123d5e-d3ef-4177-b138-ede2d928fac5",
   "metadata": {},
   "outputs": [
    {
     "name": "stdout",
     "output_type": "stream",
     "text": [
      "Collecting numpy\n",
      "  Downloading numpy-2.3.3-cp313-cp313-macosx_14_0_arm64.whl.metadata (62 kB)\n",
      "Downloading numpy-2.3.3-cp313-cp313-macosx_14_0_arm64.whl (5.1 MB)\n",
      "\u001b[2K   \u001b[90m━━━━━━━━━━━━━━━━━━━━━━━━━━━━━━━━━━━━━━━━\u001b[0m \u001b[32m5.1/5.1 MB\u001b[0m \u001b[31m28.4 MB/s\u001b[0m  \u001b[33m0:00:00\u001b[0m\n",
      "\u001b[?25hInstalling collected packages: numpy\n",
      "Successfully installed numpy-2.3.3\n"
     ]
    }
   ],
   "source": [
    "!pip3 install numpy"
   ]
  },
  {
   "cell_type": "markdown",
   "id": "e4c4008f-1b18-4138-9a59-d13206e51146",
   "metadata": {},
   "source": [
    "## Numpy Basics:\n",
    "### Defination: \n",
    " - NumPy is the fundamental package for scientific computing in Python. It is a Python library that provides a multidi-\n",
    "mensional array object, various derived objects (such as masked arrays and matrices), and an assortment of routines for\n",
    "fast operations on arrays, including mathematical, logical, shape manipulation, sorting, selecting, I/O, discrete Fourier\n",
    "transforms, basic linear algebra, basic statistical operations, random simulation and much more.\n",
    "\n",
    " - At the core of the NumPy package, is the ndarray object. This encapsulates n-dimensional arrays of homogeneous data\n",
    "types, with many operations being performed in compiled code for performance.\n",
    "\n",
    "### Features:\n",
    " - Fized size at creation, Changing the size result in creation of new and deletion of original.\n",
    " - required to be of the same data type, and thus will be the same size in memory.\n",
    " - facilitate advanced mathematical and other types of operations on large numbers of data.\n",
    " - plethora of scientific and mathematical Python-based packages are using NumPy arrays.\n",
    "\n",
    "### Vectorisation and Braodcasting\n",
    " - Vectorization describes the absence of any explicit looping, indexing, etc., in the code - these things are taking place, of course, just “behind the scenes” in optimized, pre-compiled C code.\n",
    " - Advantages:\n",
    "   - Code is more concise and easier to read\n",
    "   - Fewer line of code hence fewer bugs\n",
    "   - code more closely resembles standard mathematical notation\n",
    " - Broadcasting is the term used to describe the implicit element-by-element behavior of operations; generally speaking, in NumPy all operations, not just arithmetic operations, but logical, bit-wise, functional, etc., behave in this implicit element-by-element fashion, i.e., they broadcast.\n",
    "\n",
    "### The Basics:\n",
    "- Numpy's main object is a homogenous multidimensinal Array (ndarray class).\n",
    "- In Numpy dimensions are called ``` axes```\n",
    "- Some important attributes os ndarray class's object are:\n",
    "    - ndarray.ndim ``` number of axes (dimensions) of the array```\n",
    "    - ndarray.shape ``` tuple of integers indicating the size of the array in each dimension ```\n",
    "    - ndarray.size ``` the total number of elements of the array ```\n",
    "    - ndarray.dtype ```an object describing the type of the elements in the array.```\n",
    "    - ndarray.itemsize ``` the size in bytes of each element of the array. ```"
   ]
  },
  {
   "cell_type": "code",
   "execution_count": 2,
   "id": "afa70ded-a5d6-4749-bdc3-0dc871f9930b",
   "metadata": {},
   "outputs": [],
   "source": [
    "import numpy as np"
   ]
  },
  {
   "cell_type": "markdown",
   "id": "9a6b94d4-1bf4-4173-a722-3866492fe1e6",
   "metadata": {},
   "source": [
    "### Array Creation:\n",
    "1. Create an array from a regular Python list or tuple using the `array` function.\n",
    "    ```\n",
    "    np.array([(1.5, 2, 3), (4, 5, 6)])\n",
    "    ```\n",
    "    \n",
    "2. Using `np.zeros` or `np.ones` to create an array filled with either 0 or 1 initially\n",
    "    ```\n",
    "    np.zeros((3, 4))\n",
    "    ```\n",
    "    It takes a tuple dipicting shape of the array as argument, also can take one more optional argument dtype = np.int16 or np.float64\n",
    "\n",
    "   \n",
    "3. Using `arange` function.\n",
    "    ```\n",
    "   np.arange(10, 30, 5) \n",
    "   ```\n",
    "   taking 3 arguments as follow start, end, step which is analogue to range function in python\n",
    "   step can also take float argument\n",
    "   - When arange is used with floating point arguments, it is generally not possible to predict the number of elements obtained, due to the finite floating point precision. For this reason, it is usually better to use the function linspace that receives as an argument the number of elements that we want, instead of the step:\n",
    "     ```\n",
    "     np.linspace(0, 2, 9) \n",
    "     ```\n",
    "   - 9 numbers from 0 to 2\n",
    "   "
   ]
  },
  {
   "cell_type": "code",
   "execution_count": 29,
   "id": "0e023e96-22b6-4e9a-ab18-c38333c12953",
   "metadata": {},
   "outputs": [
    {
     "name": "stdout",
     "output_type": "stream",
     "text": [
      "[1 2 3]\n",
      "[[1 2 3]\n",
      " [4 5 6]]\n",
      "\n",
      "Array of zeros with default datatype: \n",
      "[[0. 0. 0. 0.]\n",
      " [0. 0. 0. 0.]\n",
      " [0. 0. 0. 0.]]\n",
      "\n",
      "Array of zeros with int datatype: \n",
      "[[0 0 0 0]\n",
      " [0 0 0 0]\n",
      " [0 0 0 0]]\n",
      "\n",
      "Array of ones with default datatype: \n",
      "[[1. 1. 1.]\n",
      " [1. 1. 1.]\n",
      " [1. 1. 1.]\n",
      " [1. 1. 1.]]\n",
      "\n",
      "Array of ones with int datatype:\n",
      "[[1 1 1]\n",
      " [1 1 1]\n",
      " [1 1 1]\n",
      " [1 1 1]]\n",
      "\n",
      "Array created using arange function with int step argument\n",
      "[10 15 20 25 30 35 40 45 50 55 60 65 70 75 80 85]\n",
      "\n",
      "Array created using arange function with float step argument\n",
      "[0.  0.3 0.6 0.9 1.2 1.5 1.8 2.1 2.4 2.7 3.  3.3 3.6 3.9 4.2 4.5 4.8]\n",
      "Number of elements: 17\n",
      "\n",
      "Array created using linspace\n",
      "[0.   0.25 0.5  0.75 1.   1.25 1.5  1.75 2.  ]\n",
      "Number of elements : 9\n"
     ]
    }
   ],
   "source": [
    "# One dimensional array\n",
    "a = np.array([1,2,3])\n",
    "print(a)\n",
    "\n",
    "# Two Dimensional Array\n",
    "b = np.array([[1,2,3],[4,5,6]])\n",
    "print(b)\n",
    "\n",
    "print(\"\\nArray of zeros with default datatype: \")\n",
    "a0 = np.zeros((3,4))\n",
    "print(a0)\n",
    "\n",
    "print(\"\\nArray of zeros with int datatype: \")\n",
    "b0 = np.zeros((3,4),dtype = np.int64)\n",
    "print(b0)\n",
    "\n",
    "print(\"\\nArray of ones with default datatype: \")\n",
    "a1 = np.ones((4,3))\n",
    "print(a1)\n",
    "\n",
    "print(\"\\nArray of ones with int datatype:\")\n",
    "b1 = np.ones((4,3),dtype = np.int16)\n",
    "print(b1)\n",
    "\n",
    "print(\"\\nArray created using arange function with int step argument\")\n",
    "arr = np.arange(10,90,5)\n",
    "print(arr)\n",
    "\n",
    "print(\"\\nArray created using arange function with float step argument\")\n",
    "arr1 = np.arange(0,5,0.3)\n",
    "print(arr1)\n",
    "print(\"Number of elements: {}\\n\".format(arr1.size))\n",
    "# As we can see from the output no of values here cannot be determined\n",
    "\n",
    "print(\"Array created using linspace\")\n",
    "arr2 = np.linspace(0,2,9)\n",
    "print(arr2)\n",
    "print(\"Number of elements : {}\".format(arr2.size))"
   ]
  },
  {
   "cell_type": "markdown",
   "id": "d3ca42ff-c0fe-4fd1-a363-ea34269642ef",
   "metadata": {},
   "source": [
    "### Basic Operations\n",
    "- Arithmetic operators on arrays apply elementwise. A new array is created and filled with the result.\n",
    "- operations, such as += and *=, act in place to modify an existing array rather than create a new one.\n",
    "- The matrix product can be performed using the @ operator (in python >=3.5) or the dot function or method:\n",
    "- Some of the unary operation on arrays are implemented as method in ndarray class, including: sum,max,min,cumsin etc.\n",
    "  - By default all such methods are applied to matrix row wise but you can specify the axis to apply the operation.\n",
    "  - Axis 0 = Column\n",
    "  - Axis 1 = Row\n",
    "\n",
    "```Note: When operating with arrays of different types, the type of the resulting array corresponds to the more general or precise one (a behavior known as upcasting).```\n"
   ]
  },
  {
   "cell_type": "code",
   "execution_count": 25,
   "id": "9d8bd952-e3cf-4bf1-887f-d5db1824e5d9",
   "metadata": {},
   "outputs": [
    {
     "name": "stdout",
     "output_type": "stream",
     "text": [
      "First Array:  [20 30 40 50]\n",
      "\n",
      "Second Array:  [0 1 2 3]\n",
      "Subtraction:  [20 29 38 47]\n",
      "Addition: [20 31 42 53]\n",
      "Multiplication:  [  0  30  80 150]\n",
      "Division: [ 0 30 20 16]\n",
      "Power:  [0 1 4 9]\n",
      "First Matrix: \n",
      " [[1 1]\n",
      " [0 1]]\n",
      "\n",
      "Second Matrix: \n",
      " [[2 0]\n",
      " [3 4]]\n",
      "Element Wise Multiplication: \n",
      " [[2 0]\n",
      " [0 4]]\n",
      "Matrix Dot Product: \n",
      " [[5 4]\n",
      " [3 4]]\n",
      "[10 11 12 13]\n",
      "[100 110 120 130]\n"
     ]
    },
    {
     "name": "stderr",
     "output_type": "stream",
     "text": [
      "/var/folders/n2/xblt95t12h7cjhv3hf2dtsw00000gn/T/ipykernel_8996/998764561.py:20: RuntimeWarning: divide by zero encountered in floor_divide\n",
      "  c = a//b\n"
     ]
    }
   ],
   "source": [
    "# Operations on Array\n",
    "a = np.array([20,30,40,50])\n",
    "b = np.arange(4)\n",
    "print(\"First Array: \",a)\n",
    "print(\"\\nSecond Array: \",b)\n",
    "\n",
    "# Subtraction\n",
    "c = a-b\n",
    "print(\"Subtraction: \",c)\n",
    "\n",
    "# Addition\n",
    "c = a+b\n",
    "print(\"Addition:\",c)\n",
    "\n",
    "# Multiplication\n",
    "c = a*b\n",
    "print(\"Multiplication: \",c)\n",
    "\n",
    "# Division\n",
    "c = a//b\n",
    "print(\"Division:\",c)\n",
    "\n",
    "# Power\n",
    "print(\"Power: \",b**2)\n",
    "\n",
    "a < 25\n",
    "\n",
    "# Operation on Matrix (2d Array)\n",
    "A = np.array([[1, 1],[0, 1]])\n",
    "B = np.array([[2, 0],[3, 4]])\n",
    "\n",
    "\n",
    "print(\"First Matrix: \\n\",A)\n",
    "print(\"\\nSecond Matrix: \\n\",B)\n",
    "# 1. Element Wise Multiplication\n",
    "C = A*B\n",
    "print(\"Element Wise Multiplication: \\n\",C)\n",
    "\n",
    "# Matix product or dot product\n",
    "C = A@B\n",
    "print(\"Matrix Dot Product: \\n\",C)\n",
    "\n",
    "b+=10\n",
    "print(b)\n",
    "b*=10\n",
    "print(b)"
   ]
  },
  {
   "cell_type": "code",
   "execution_count": 35,
   "id": "805c6bae-59b1-44a2-8ca9-172156e98d26",
   "metadata": {},
   "outputs": [
    {
     "name": "stdout",
     "output_type": "stream",
     "text": [
      "Matrix: \n",
      " [[ 0  1  2  3]\n",
      " [ 4  5  6  7]\n",
      " [ 8  9 10 11]]\n",
      "Sum of elements of Matrix: \n",
      " 66\n",
      "Max element in matrix: \n",
      " 11\n",
      "Min element in matrix: \n",
      " 0\n",
      "Cummulative sum across each row: \n",
      " [ 0  1  3  6 10 15 21 28 36 45 55 66]\n",
      "\n",
      "\n",
      "\n",
      "Sum of elements of Matrix across columns: \n",
      " [12 15 18 21]\n",
      "Max element in matrix across rows: \n",
      " [ 3  7 11]\n",
      "Min element in matrix across column: \n",
      " [0 1 2 3]\n",
      "Cummulative sum across each row: \n",
      " [[ 0  1  3  6]\n",
      " [ 4  9 15 22]\n",
      " [ 8 17 27 38]]\n"
     ]
    }
   ],
   "source": [
    "b = np.arange(12).reshape(3, 4)\n",
    "print(\"Matrix: \\n\",b)\n",
    "\n",
    "print(\"Sum of elements of Matrix: \\n\",b.sum())\n",
    "print(\"Max element in matrix: \\n\",b.max())\n",
    "print(\"Min element in matrix: \\n\",b.min())\n",
    "print(\"Cummulative sum across each row: \\n\",b.cumsum())\n",
    "\n",
    "print(\"\\n\\n\")\n",
    "print(\"Sum of elements of Matrix across columns: \\n\",b.sum(axis = 0))\n",
    "print(\"Max element in matrix across rows: \\n\",b.max(axis = 1))\n",
    "print(\"Min element in matrix across column: \\n\",b.min(axis = 0))\n",
    "print(\"Cummulative sum across each row: \\n\",b.cumsum(axis = 1))"
   ]
  },
  {
   "cell_type": "markdown",
   "id": "442cc8c5-a056-4caa-92d8-aee63218ba4e",
   "metadata": {},
   "source": [
    "### Indexing, Slicing and Iterating:\n",
    "\n",
    "1. One-Dimensional Array:\n",
    "   - They are index,Sliced and Iterated more like Python lists\n",
    "2. Multi-Dimensional Array:\n",
    "   - Multidimensional arrays can have one index per axis. These indices are given in a tuple separated by commas.\n",
    "   - If you want to perform operation on each element use flat attribut of multd."
   ]
  },
  {
   "cell_type": "code",
   "execution_count": 49,
   "id": "ddc624d1-4d25-4806-a274-845b7654b6c1",
   "metadata": {},
   "outputs": [
    {
     "name": "stdout",
     "output_type": "stream",
     "text": [
      "[  0   1   8  27  64 125 216 343 512 729]\n",
      "Element at index 0 is : 0\n",
      "Element at index 1 is : 1\n",
      "Element at index 2 is : 8\n",
      "Element at index 3 is : 27\n",
      "Element at index 4 is : 64\n",
      "Element at index 5 is : 125\n",
      "Element at index 6 is : 216\n",
      "Element at index 7 is : 343\n",
      "Element at index 8 is : 512\n",
      "Element at index 9 is : 729\n",
      "0\n",
      "1\n",
      "8\n",
      "27\n",
      "64\n",
      "125\n",
      "216\n",
      "343\n",
      "512\n",
      "729\n",
      "[ 8 27 64]\n"
     ]
    }
   ],
   "source": [
    "# One-Dimensional\n",
    "a = np.arange(10)**3\n",
    "print(a)\n",
    "\n",
    "# Indexing - [index]\n",
    "for i in range(0,a.size):\n",
    "    print(\"Element at index {} is : {}\".format(i,a[i]))\n",
    "\n",
    "# Iteration\n",
    "for i in a:\n",
    "    print(i)\n",
    "\n",
    "# Slicing\n",
    "print(a[2:5])"
   ]
  },
  {
   "cell_type": "code",
   "execution_count": 67,
   "id": "e9f3ea55-c68c-484e-acd1-40f1cc8f1187",
   "metadata": {},
   "outputs": [
    {
     "name": "stdout",
     "output_type": "stream",
     "text": [
      "[[ 0  1  2  3]\n",
      " [10 11 12 13]\n",
      " [20 21 22 23]\n",
      " [30 31 32 33]\n",
      " [40 41 42 43]]\n",
      "23\n",
      "[ 1 11 21]\n",
      "[11 12]\n",
      "[[10 11 12 13]\n",
      " [20 21 22 23]\n",
      " [30 31 32 33]\n",
      " [40 41 42 43]]\n",
      "0\n",
      "1\n",
      "2\n",
      "3\n",
      "10\n",
      "11\n",
      "12\n",
      "13\n",
      "20\n",
      "21\n",
      "22\n",
      "23\n",
      "30\n",
      "31\n",
      "32\n",
      "33\n",
      "40\n",
      "41\n",
      "42\n",
      "43\n"
     ]
    }
   ],
   "source": [
    "#  Multi-Dimensional Array\n",
    "b = np.array([[ 0, 1, 2, 3],\n",
    "[10, 11, 12, 13],\n",
    "[20, 21, 22, 23],\n",
    "[30, 31, 32, 33],\n",
    "[40, 41, 42, 43]])\n",
    "\n",
    "print(b)\n",
    "\n",
    "# Indexing - [row,column] - return single value\n",
    "print(b[2,3])\n",
    "\n",
    "# 1st column from 0 to 3 index\n",
    "print(b[0:3,1])\n",
    "\n",
    "# 1st row from 1 to 3 index\n",
    "print(b[1,1:3])\n",
    "\n",
    "# each column from 1st row onwards\n",
    "print(b[1:,:])\n",
    "\n",
    "for i in b.flat:\n",
    "    print(i) "
   ]
  },
  {
   "cell_type": "markdown",
   "id": "5f3a950f-624a-4368-aec4-d16fbaa919d7",
   "metadata": {},
   "source": [
    "### Reshape an Numpy Array\n",
    "```reshape``` method of ndarray class will give a new shape to an array without changing the data. Just remember that when you use\n",
    "the reshape method, the array you want to produce needs to have the same number of elements as the original array. "
   ]
  },
  {
   "cell_type": "code",
   "execution_count": 9,
   "id": "c63af1ee-11c7-435a-b27d-a24b45ffa023",
   "metadata": {},
   "outputs": [
    {
     "name": "stdout",
     "output_type": "stream",
     "text": [
      "[[0 1]\n",
      " [2 3]\n",
      " [4 5]\n",
      " [6 7]]\n",
      "[[0 1 2 3]\n",
      " [4 5 6 7]]\n",
      "[[[0 1 2 3]\n",
      "  [4 5 6 7]]]\n"
     ]
    }
   ],
   "source": [
    "a= np.arange(8)\n",
    "print(a.reshape(4,2))\n",
    "print(a.reshape(2,4))\n",
    "print(a.reshape(1,2,4))"
   ]
  },
  {
   "cell_type": "markdown",
   "id": "020fb277-6b1f-4bef-b423-789e8366d76b",
   "metadata": {},
   "source": [
    "### Index & Slicing concepts:\n",
    "\n",
    "1. I have already covered the basics of Indexing and Slicing in NumPy Array.\n",
    "2. If you want to select values from your array that fulfill certain conditions"
   ]
  },
  {
   "cell_type": "code",
   "execution_count": 17,
   "id": "1796ba61-5fd3-42a5-80a1-094e492885b3",
   "metadata": {},
   "outputs": [
    {
     "name": "stdout",
     "output_type": "stream",
     "text": [
      "[1 2 3 4]\n",
      "[ 2  4  6  8 10 12]\n",
      "[ 3  4  5  6  7  8  9 10]\n",
      "[[ 1  2  3  4]\n",
      " [ 5  6  7  8]\n",
      " [ 9 10 11 12]]\n",
      "[[ 1  3]\n",
      " [ 5  7]\n",
      " [ 9 11]]\n",
      "[[ 1  2  3  4]\n",
      " [ 9 10 11 12]]\n"
     ]
    }
   ],
   "source": [
    "# 2. If you want to select values from your array that fulfill certain conditions\n",
    "a = np.array([[1, 2, 3, 4], [5, 6, 7, 8], [9, 10, 11, 12]])\n",
    "# Print all the values less than 5\n",
    "print(a[a<5])\n",
    "\n",
    "# Select Elements that are divisible by 2\n",
    "print(a[a%2==0])\n",
    "\n",
    "# Satisfy 2 condition using & and | operators:\n",
    "print(a[(a>2) & (a<11)])\n",
    "\n",
    "print(a)\n",
    "# print(alternative columns\n",
    "print(a[:,::2])\n",
    "\n",
    "# Print alternative rows\n",
    "print(a[::2,:])\n",
    "\n",
    "# to be continued..."
   ]
  },
  {
   "cell_type": "markdown",
   "id": "f0ab6a8b-7564-4319-88a9-5e158925ff00",
   "metadata": {},
   "source": [
    "### Unique items and count\n",
    "* Use ```np.unique()``` to get the unique elements from you array.\n",
    "  * To get the index of the unique elements use ```return_index``` argument and pass it as True.\n",
    "  * to get the occurence of the unique elements use ```return_counts``` argument.\n"
   ]
  },
  {
   "cell_type": "code",
   "execution_count": 11,
   "id": "8a170003-ea01-4a32-a4e9-4eb5c4feabc0",
   "metadata": {},
   "outputs": [
    {
     "name": "stdout",
     "output_type": "stream",
     "text": [
      "[11 11 12 13 14 15 16 17 12 13 11 14 18 19 20]\n",
      "[11 12 13 14 15 16 17 18 19 20]\n",
      "(array([11, 12, 13, 14, 15, 16, 17, 18, 19, 20]), array([ 0,  2,  3,  4,  5,  6,  7, 12, 13, 14]))\n",
      "(array([11, 12, 13, 14, 15, 16, 17, 18, 19, 20]), array([3, 2, 2, 2, 1, 1, 1, 1, 1, 1]))\n",
      "[[ 1  2  3  4]\n",
      " [ 5  6  7  8]\n",
      " [ 9 10 11 12]\n",
      " [ 1  2  3  4]]\n",
      "[ 1  2  3  4  5  6  7  8  9 10 11 12]\n",
      "[[ 1  2  3  4]\n",
      " [ 5  6  7  8]\n",
      " [ 9 10 11 12]]\n",
      "[[ 1  2  3  4]\n",
      " [ 5  6  7  8]\n",
      " [ 9 10 11 12]\n",
      " [ 1  2  3  4]]\n"
     ]
    }
   ],
   "source": [
    "# 1-D Array\n",
    "a = np.array([11, 11, 12, 13, 14, 15, 16, 17, 12, 13, 11, 14, 18, 19, 20])\n",
    "print(a)\n",
    "\n",
    "print(np.unique(a))\n",
    "print(np.unique(a,return_index = True))\n",
    "print(np.unique(a,return_counts=True))\n",
    "\n",
    "# 2-d Array\n",
    "a_2d = np.array([[1, 2, 3, 4], [5, 6, 7, 8], [9, 10, 11, 12], [1, 2, 3, 4]])\n",
    "print(a_2d)\n",
    "print(np.unique(a_2d)) # convert the 2d array to 1d array\n",
    "\n",
    "# Unique elemnt in a column\n",
    "print(np.unique(a_2d, axis = 0))\n",
    "\n",
    "#unique elements in a row\n",
    "print(np.unique(a_2d,axis = 1))"
   ]
  },
  {
   "cell_type": "markdown",
   "id": "ca9d16f0-992b-4abe-a6ee-3b18e6d80ec1",
   "metadata": {},
   "source": [
    "### Transposing & Reshaping\n",
    "There are two methods to transpose the array: ```.T or .transpose()```"
   ]
  },
  {
   "cell_type": "code",
   "execution_count": 18,
   "id": "bf67faaf-9013-418f-ae51-497b7e489276",
   "metadata": {},
   "outputs": [
    {
     "name": "stdout",
     "output_type": "stream",
     "text": [
      "[[0 1]\n",
      " [2 3]\n",
      " [4 5]]\n",
      "[[0 1 2]\n",
      " [3 4 5]]\n",
      "[[0 2 4]\n",
      " [1 3 5]]\n",
      "[[0 2 4]\n",
      " [1 3 5]]\n"
     ]
    }
   ],
   "source": [
    "data = np.arange(6).reshape(3,2)\n",
    "print(data)\n",
    "print(data.reshape(2,3))\n",
    "print(data.transpose())\n",
    "print(data.T)"
   ]
  }
 ],
 "metadata": {
  "kernelspec": {
   "display_name": "Python 3 (ipykernel)",
   "language": "python",
   "name": "python3"
  },
  "language_info": {
   "codemirror_mode": {
    "name": "ipython",
    "version": 3
   },
   "file_extension": ".py",
   "mimetype": "text/x-python",
   "name": "python",
   "nbconvert_exporter": "python",
   "pygments_lexer": "ipython3",
   "version": "3.13.7"
  }
 },
 "nbformat": 4,
 "nbformat_minor": 5
}
