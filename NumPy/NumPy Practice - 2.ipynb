{
 "cells": [
  {
   "cell_type": "code",
   "execution_count": 30,
   "metadata": {},
   "outputs": [
    {
     "name": "stderr",
     "output_type": "stream",
     "text": [
      "Matplotlib is building the font cache; this may take a moment.\n"
     ]
    }
   ],
   "source": [
    "import numpy as np\n",
    "# !pip3 install matplotlib\n",
    "import matplotlib.pyplot as plt"
   ]
  },
  {
   "cell_type": "markdown",
   "metadata": {
    "id": "1uamk9vAix0o"
   },
   "source": [
    "### `Q-1:` Find the nearest element in the array to a given integer.\n",
    "```\n",
    "Ex:-\n",
    "a=23 and array - [10 17 24 31 38 45 52 59].\n",
    "Nearest element is 24\n",
    "```\n",
    "Hint: Read about this function `argmin()`"
   ]
  },
  {
   "cell_type": "code",
   "execution_count": 64,
   "metadata": {
    "id": "ddkpbpR6iySZ"
   },
   "outputs": [
    {
     "data": {
      "text/plain": [
       "np.int64(24)"
      ]
     },
     "execution_count": 64,
     "metadata": {},
     "output_type": "execute_result"
    }
   ],
   "source": [
    "# code here\n",
    "arr = np.array([10,17,24,31,38,45,52,59])\n",
    "a = 23\n",
    "arr[np.abs(a-arr).argmin()]"
   ]
  },
  {
   "cell_type": "markdown",
   "metadata": {
    "id": "Y1QkHyPpizyp"
   },
   "source": [
    "### `Q-2:` Replace multiples of 3 or 5 as 0 in the given array.\n",
    "```\n",
    "arr=[1 2 3 4 5 6 7 9]\n",
    "\n",
    "result-> [1 2 0 4 0 0 7 0]\n",
    "```"
   ]
  },
  {
   "cell_type": "code",
   "execution_count": 6,
   "metadata": {
    "id": "JjtxMlhWi25l"
   },
   "outputs": [
    {
     "data": {
      "text/plain": [
       "array([1, 2, 0, 4, 0, 0, 7, 0])"
      ]
     },
     "execution_count": 6,
     "metadata": {},
     "output_type": "execute_result"
    }
   ],
   "source": [
    "# code here\n",
    "arr = np.array([1,2,3,4,5,6,7,9])\n",
    "arr[(arr % 3 == 0) | (arr % 5 == 0)] = 0\n",
    "arr"
   ]
  },
  {
   "cell_type": "markdown",
   "metadata": {
    "id": "Pi_dZSwTi4OI"
   },
   "source": [
    "### `Q-3:` Use Fancy Indexing.\n",
    "1. Double the array elements at  given indexes\n",
    "```\n",
    "arr = np.arrange(10)\n",
    "indexes = [0,3,4,9]\n",
    "```\n",
    "Result -> `[ 0  1  2  6  8  5  6  7  8 18]`\n",
    "\n",
    "2. Using a given array make a different array as in below example\n",
    "```\n",
    "array = [1,2,3]\n",
    "result array -> [1 1 1 2 2 2 3 3 3]\n",
    "```\n",
    "* Internal-repetion should be as length of the array.\n",
    "\n",
    "Hint:\n",
    "```\n",
    "if a is an array\n",
    "a = [2,4]\n",
    "a[[1,1,0,1]] will result in-> [4 4 2 4]\n",
    "```"
   ]
  },
  {
   "cell_type": "code",
   "execution_count": 9,
   "metadata": {
    "id": "SHYuyuovi66N"
   },
   "outputs": [
    {
     "data": {
      "text/plain": [
       "array([ 0,  1,  2,  6,  8,  5,  6,  7,  8, 18])"
      ]
     },
     "execution_count": 9,
     "metadata": {},
     "output_type": "execute_result"
    }
   ],
   "source": [
    "# code here\n",
    "# 1. Double the elements at given indexes\n",
    "arr = np.arange(10)\n",
    "indexes = [0,3,4,9]\n",
    "arr[indexes] = arr[indexes] * 2\n",
    "arr"
   ]
  },
  {
   "cell_type": "markdown",
   "metadata": {
    "id": "UDehG0tFi89i"
   },
   "source": [
    "### `Q-4:` Your are given an array which is havig some nan value. You job is to fill those nan values with most common element in the array.\n",
    "```\n",
    "arr=np.array([[1,2,np.nan],[4,2,6],[np.nan,np.nan,5]])\n",
    "\n",
    "```"
   ]
  },
  {
   "cell_type": "code",
   "execution_count": 58,
   "metadata": {
    "id": "YH13A6w9jEyu"
   },
   "outputs": [
    {
     "data": {
      "text/plain": [
       "array([[1., 2., 2.],\n",
       "       [4., 2., 6.],\n",
       "       [2., 2., 5.]])"
      ]
     },
     "execution_count": 58,
     "metadata": {},
     "output_type": "execute_result"
    }
   ],
   "source": [
    "# code here\n",
    "arr=np.array([[1,2,np.nan],[4,2,6],[np.nan,np.nan,5]])\n",
    "arr[np.isnan(arr)] = np.ravel(arr).argmax()\n",
    "arr"
   ]
  },
  {
   "cell_type": "markdown",
   "metadata": {
    "id": "Tk2JnioUjJ_t"
   },
   "source": [
    "### `Q-5:` Write a NumPy program\n",
    "\n",
    "- to find the missing data in a given array. Return a boolean matrix.\n",
    "- also try to fill those missing values with 0. For that, you can use `np.nan_to_num(a)`\n",
    "\n",
    "```python\n",
    "import numpy as np\n",
    "\n",
    "np.array([[3, 2, np.nan, 1],\n",
    "          [10, 12, 10, 9],\n",
    "          [5, np.nan, 1, np.nan]])\n",
    "```"
   ]
  },
  {
   "cell_type": "code",
   "execution_count": 20,
   "metadata": {
    "id": "nPEBTQJ_jJZe"
   },
   "outputs": [
    {
     "data": {
      "text/plain": [
       "array([[ 3.,  2.,  0.,  1.],\n",
       "       [10., 12., 10.,  9.],\n",
       "       [ 5.,  0.,  1.,  0.]])"
      ]
     },
     "execution_count": 20,
     "metadata": {},
     "output_type": "execute_result"
    }
   ],
   "source": [
    "# code here\n",
    "arr = np.array([[3, 2, np.nan, 1],\n",
    "          [10, 12, 10, 9],\n",
    "          [5, np.nan, 1, np.nan]])\n",
    "np.isnan(arr)\n",
    "np.nan_to_num(arr,0)"
   ]
  },
  {
   "cell_type": "markdown",
   "metadata": {
    "id": "FFUnZtG7jNBH"
   },
   "source": [
    "### `Q-6:` Given two arrays, X and Y, construct the Cauchy matrix C.\n",
    "`Cij =1/(xi - yj)`\n",
    "\n",
    "http://en.wikipedia.org/wiki/Cauchy_matrix\n",
    "```\n",
    "x = numpy.array([1,2,3,4]).reshape((-1, 1)\n",
    "y = numpy.array([5,6,7])\n",
    "```"
   ]
  },
  {
   "cell_type": "code",
   "execution_count": 54,
   "metadata": {
    "id": "pQXHa38TjVEh"
   },
   "outputs": [
    {
     "name": "stderr",
     "output_type": "stream",
     "text": [
      "/var/folders/n2/xblt95t12h7cjhv3hf2dtsw00000gn/T/ipykernel_11222/1105738968.py:7: DeprecationWarning: Conversion of an array with ndim > 0 to a scalar is deprecated, and will error in future. Ensure you extract a single element from your array before performing this operation. (Deprecated NumPy 1.25.)\n",
      "  C[i,j] = 1/(x[i] - y[j])\n"
     ]
    },
    {
     "data": {
      "text/plain": [
       "array([[-0.25      , -0.2       , -0.16666667, -0.14285714],\n",
       "       [-0.33333333, -0.25      , -0.2       , -0.16666667],\n",
       "       [-0.5       , -0.33333333, -0.25      , -0.2       ],\n",
       "       [-1.        , -0.5       , -0.33333333, -0.25      ]])"
      ]
     },
     "execution_count": 54,
     "metadata": {},
     "output_type": "execute_result"
    }
   ],
   "source": [
    "# code here\n",
    "x = np.array([1,2,3,4]).reshape((-1, 1))\n",
    "y = np.array([5,6,7,])\n",
    "# C = np.empty((x.size,y.size))\n",
    "for i in range(x.size - 1):\n",
    "    for j in range(y.size - 1):\n",
    "        C[i,j] = 1/(x[i] - y[j])\n",
    "C"
   ]
  },
  {
   "cell_type": "markdown",
   "metadata": {
    "id": "EbkHZCF1jWNc"
   },
   "source": [
    "### `Q-7:` Plot this below equation.\n",
    "\n",
    "$$\\large y = \\frac{e^x - e^{-x}}{e^x + e^{-x}}$$\n",
    "\n",
    "**Note: This equation is called tanh activation function. In deep learning, many times this function is used. If you find some difference between the sigmoid function and this tanh function, note that to your notebook.**"
   ]
  },
  {
   "cell_type": "code",
   "execution_count": 35,
   "metadata": {
    "id": "n6OcN--FjbLC"
   },
   "outputs": [
    {
     "data": {
      "text/plain": [
       "[<matplotlib.lines.Line2D at 0x1219db610>]"
      ]
     },
     "execution_count": 35,
     "metadata": {},
     "output_type": "execute_result"
    },
    {
     "data": {
      "image/png": "[encoded data removed]",
      "text/plain": [
       "<Figure size 640x480 with 1 Axes>"
      ]
     },
     "metadata": {},
     "output_type": "display_data"
    }
   ],
   "source": [
    "# code here\n",
    "x = np.arange(-10,10)\n",
    "y = (np.exp(x) - np.exp(-x)) / (np.exp(x) + np.exp(-x))\n",
    "plt.plot(x,y)"
   ]
  },
  {
   "cell_type": "markdown",
   "metadata": {
    "id": "xujS-pu4jciH"
   },
   "source": [
    "### `Q-8:` Plot the below equation.\n",
    "\n",
    "$$\\large y = \\sqrt{36 - (x - 4)^2} + 2$$\n",
    "\n",
    "The range of x should be between -2 to 10. $x ∈ [-2, 10]$\n",
    "\n"
   ]
  },
  {
   "cell_type": "code",
   "execution_count": 31,
   "metadata": {
    "id": "7CagwKP_jhIQ"
   },
   "outputs": [
    {
     "data": {
      "text/plain": [
       "[<matplotlib.lines.Line2D at 0x120e60410>]"
      ]
     },
     "execution_count": 31,
     "metadata": {},
     "output_type": "execute_result"
    },
    {
     "data": {
      "image/png": "[encoded data removed]",
      "text/plain": [
       "<Figure size 640x480 with 1 Axes>"
      ]
     },
     "metadata": {},
     "output_type": "display_data"
    }
   ],
   "source": [
    "# code here\n",
    "x = np.arange(-2,11)\n",
    "y = np.sqrt(36-((x-4)**2)) + 2\n",
    "plt.plot(x,y)"
   ]
  },
  {
   "cell_type": "markdown",
   "metadata": {
    "id": "Jf14pxCfjiX1"
   },
   "source": [
    "### `Q-9:` Write a program implement Boradcasting Rule to check if two array can be added or not.\n",
    "Given tuples of shapes.\n",
    "```\n",
    "shape of a- (3,2,2)\n",
    "shape of b- (2,2)\n",
    "\n",
    "check_broadcast(a, b) -> return Boolean (True if can broadcasted, False other wise.)\n",
    "```"
   ]
  },
  {
   "cell_type": "code",
   "execution_count": null,
   "metadata": {
    "id": "qSKGG0Yajlc8"
   },
   "outputs": [],
   "source": [
    "# code here"
   ]
  }
 ],
 "metadata": {
  "colab": {
   "provenance": []
  },
  "kernelspec": {
   "display_name": "Python 3 (ipykernel)",
   "language": "python",
   "name": "python3"
  },
  "language_info": {
   "codemirror_mode": {
    "name": "ipython",
    "version": 3
   },
   "file_extension": ".py",
   "mimetype": "text/x-python",
   "name": "python",
   "nbconvert_exporter": "python",
   "pygments_lexer": "ipython3",
   "version": "3.13.7"
  }
 },
 "nbformat": 4,
 "nbformat_minor": 4
}
