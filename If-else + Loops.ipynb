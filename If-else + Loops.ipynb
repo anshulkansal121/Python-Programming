{
 "cells": [
  {
   "cell_type": "markdown",
   "metadata": {},
   "source": [
    "### `Practice: If-else and loop`\n",
    "\n",
    "> Concept Summary:\n",
    "\n",
    "* if - elif - else\n",
    "* Triangle\n",
    "* Menu - Drive Program\n",
    "* Fibonnaci series\n",
    "* Factorial\n",
    "* Reverse a Integer\n",
    "* Armstrong Number\n",
    "* Prime Number\n",
    "* Angle b/w minute and hour hand"
   ]
  },
  {
   "cell_type": "markdown",
   "metadata": {
    "id": "w6RlOAXV2PWh"
   },
   "source": [
    "### `Problem 1`: Write a program that will give you in hand monthly salary after deduction on CTC - HRA(10%), DA(5%), PF(3%) and taxes deduction as below:\n",
    "\n",
    "> Salary(Lakhs) : Tax(%)\n",
    "\n",
    "*   Below 5 : 0%\n",
    "*   5-10 : 10%\n",
    "*   10-20 : 20%\n",
    "*   aboove 20 : 30%"
   ]
  },
  {
   "cell_type": "code",
   "execution_count": 27,
   "metadata": {
    "id": "7tMHvKYO2etI"
   },
   "outputs": [
    {
     "name": "stdin",
     "output_type": "stream",
     "text": [
      "Enter you CTC:  750000\n"
     ]
    },
    {
     "name": "stdout",
     "output_type": "stream",
     "text": [
      "Monthly Salary after deduction:  45000.0\n"
     ]
    }
   ],
   "source": [
    "# Write code here\n",
    "CTC = eval(input(\"Enter you CTC: \"))\n",
    "if(CTC < 500000):\n",
    "    tax = 0\n",
    "elif(CTC >=500000 and CTC <1000000):\n",
    "    tax = .1\n",
    "elif(CTC >=1000000 and CTC < 2000000):\n",
    "    tax = .2\n",
    "else:\n",
    "    tax:.3\n",
    "salary = CTC - CTC*.1 - CTC*.05 - CTC*.03 - CTC*tax\n",
    "print(\"Monthly Salary after deduction: \",salary/12)"
   ]
  },
  {
   "cell_type": "markdown",
   "metadata": {
    "id": "tYzCGqwl2hfN"
   },
   "source": [
    "### `Problem 2`: Write a program that take a user input of three angles and will find out whether it can form a triangle or not."
   ]
  },
  {
   "cell_type": "code",
   "execution_count": 7,
   "metadata": {
    "id": "FYEqln-I2kxV"
   },
   "outputs": [
    {
     "name": "stdin",
     "output_type": "stream",
     "text": [
      "Enter 1st angle:  90\n",
      "Enter 2nd angle:  45\n",
      "Enter 3rd angle:  45\n"
     ]
    },
    {
     "name": "stdout",
     "output_type": "stream",
     "text": [
      "These three angles will form a - Right-angle triangle\n"
     ]
    }
   ],
   "source": [
    "# Write code here\n",
    "a1 = eval(input(\"Enter 1st angle: \"))\n",
    "a2 = eval(input(\"Enter 2nd angle: \"))\n",
    "a3 = eval(input(\"Enter 3rd angle: \"))\n",
    "\n",
    "if(a1+a2+a3 == 180 and a1!=0 and a2!=0 and a3!=0):\n",
    "    # Modification Type of triangle - Equilateral, Isoceles, Scalene, Righ-angle Triangle\n",
    "    print(\"These three angles will form a - \",end = \"\")\n",
    "    if(a1==a2 and a2==a3):\n",
    "        print(\"Equilateral Triangle\")\n",
    "    elif((a1==a2 or a2==a3 or a1==a3) and (a1!=90 and a2!=90 and a3!=90)):\n",
    "        print(\"Isoceles\")\n",
    "    elif(a1==90 or a2==90 or a3==90):\n",
    "        print(\"Right-angle triangle\")\n",
    "    else:\n",
    "        print(\"Scalene\")  \n",
    "else:\n",
    "    print(\"Three angles given will not form a triangle\")\n"
   ]
  },
  {
   "cell_type": "markdown",
   "metadata": {
    "id": "5vEpPh8C2pE4"
   },
   "source": [
    "### `Problem 3`: Write a program that will take user input of cost price and selling price and determines whether its a loss or a profit."
   ]
  },
  {
   "cell_type": "code",
   "execution_count": 10,
   "metadata": {
    "id": "jDwBXlkO2sfl"
   },
   "outputs": [
    {
     "name": "stdin",
     "output_type": "stream",
     "text": [
      "Enter the cost price of the product:  120\n",
      "Enter the selling price of the product:  1200\n"
     ]
    },
    {
     "name": "stdout",
     "output_type": "stream",
     "text": [
      "Profit of rupees -  1080\n"
     ]
    }
   ],
   "source": [
    "# Write code here\n",
    "cp = eval(input(\"Enter the cost price of the product: \"))\n",
    "sp = eval(input(\"Enter the selling price of the product: \"))\n",
    "# Modification also add the amount of profit or loss.\n",
    "if(sp > cp):\n",
    "    print(\"Profit of rupees - \",sp-cp)\n",
    "elif(sp < cp):\n",
    "    print(\"loss of rupees - \",cp-sp)\n",
    "else:\n",
    "    print(\"No Profit No loss\")"
   ]
  },
  {
   "cell_type": "markdown",
   "metadata": {
    "id": "J_FG_cJW2ugT"
   },
   "source": [
    "### `Problem 4`: Write a menu-driven program -\n",
    "1. cm to ft\n",
    "2. km to miles\n",
    "3. USD to INR\n",
    "4. exit"
   ]
  },
  {
   "cell_type": "code",
   "execution_count": 3,
   "metadata": {
    "id": "yBHhaCGQ2zpD"
   },
   "outputs": [
    {
     "name": "stdin",
     "output_type": "stream",
     "text": [
      " \n",
      "                        1. cm to ft\n",
      "                        2. km to miles\n",
      "                        3. USD to INR\n",
      "                        4. exit\n",
      "                        Please Enter your choice (1-4):  3\n",
      "Enter the amount in rupees:  4\n"
     ]
    },
    {
     "name": "stdout",
     "output_type": "stream",
     "text": [
      "4 rupees is equivalent to:  0.044 Dollar\n"
     ]
    }
   ],
   "source": [
    "# Write code here\n",
    "choice = int(input(\"\"\" \n",
    "                        1. cm to ft\n",
    "                        2. km to miles\n",
    "                        3. USD to INR\n",
    "                        4. exit\n",
    "                        Please Enter your choice (1-4): \"\"\"))\n",
    "if(choice == 1):\n",
    "    cm  = eval(input(\"Enter the measure in cm: \"))\n",
    "    ft = cm * 0.0328084\n",
    "    print(cm, \"cm is equivalent to: \",ft,\"ft\")\n",
    "elif(choice == 2):\n",
    "    km = eval(input(\"Enter the distance in km: \"))\n",
    "    miles = km * 0.621371\n",
    "    print(km, \"km is equivalent to \",miles,\"miles\")\n",
    "elif(choice == 3):\n",
    "    inr = eval(input(\"Enter the amount in rupees: \"))\n",
    "    usd = inr * .011\n",
    "    print(inr,\"rupees is equivalent to: \",usd,\"Dollar\")\n",
    "else:\n",
    "    print(\"Exit...\")"
   ]
  },
  {
   "cell_type": "markdown",
   "metadata": {
    "id": "LJJ30_Yw27ZU"
   },
   "source": [
    "### `Problem 5` - Exercise 12: Display Fibonacci series up to 10 terms.\n",
    "\n",
    "*Note: The Fibonacci Sequence is a series of numbers. The next number is found by adding up the two numbers before it. The first two numbers are 0 and 1. For example, 0, 1, 1, 2, 3, 5, 8, 13, 21. The next number in this series above is 13+21 = 34*"
   ]
  },
  {
   "cell_type": "code",
   "execution_count": 5,
   "metadata": {
    "id": "ae_1rpe52-5R"
   },
   "outputs": [
    {
     "name": "stdin",
     "output_type": "stream",
     "text": [
      "enter the term:  10\n"
     ]
    },
    {
     "name": "stdout",
     "output_type": "stream",
     "text": [
      "0,1,1,2,3,5,8,13,21,34,"
     ]
    }
   ],
   "source": [
    "# Write code here\n",
    "n = int(input(\"enter the term: \"))\n",
    "a = 0\n",
    "b = 1\n",
    "print(a,end=\",\")\n",
    "print(b,end=\",\")\n",
    "n-=2\n",
    "while(n):\n",
    "    temp = a\n",
    "    a = b\n",
    "    b = b + temp\n",
    "    print(b,end=\",\")\n",
    "    n-=1"
   ]
  },
  {
   "cell_type": "markdown",
   "metadata": {
    "id": "pk_I_S4m3PT5"
   },
   "source": [
    "### `Problem 6` - Find the factorial of a given number.\n",
    "\n",
    "Write a program to use the loop to find the factorial of a given number.\n",
    "\n",
    "The factorial (symbol: `!`) means to multiply all whole numbers from the chosen number down to 1.\n",
    "\n",
    "For example: calculate the factorial of 5\n",
    "\n",
    "```bash\n",
    "5! = 5 × 4 × 3 × 2 × 1 = 120\n",
    "```\n",
    "\n",
    "Output:\n",
    "\n",
    "```bash\n",
    "120\n",
    "```"
   ]
  },
  {
   "cell_type": "code",
   "execution_count": 17,
   "metadata": {
    "id": "lzXxHegx3Rkc"
   },
   "outputs": [
    {
     "name": "stdin",
     "output_type": "stream",
     "text": [
      "Enter any whole numner:  5\n"
     ]
    },
    {
     "name": "stdout",
     "output_type": "stream",
     "text": [
      "Factorial of 5 is: 120\n"
     ]
    }
   ],
   "source": [
    "# Write code here\n",
    "n = int(input(\"Enter any whole numner: \"))\n",
    "print(\"Factorial of\",n,\"is: \",end=\"\")\n",
    "fact = 1\n",
    "while(n):\n",
    "    fact = fact*n\n",
    "    n-=1\n",
    "print(fact)\n"
   ]
  },
  {
   "cell_type": "markdown",
   "metadata": {
    "id": "-17IOi-g3UpU"
   },
   "source": [
    "### `Problem 7` - Reverse a given integer number.\n",
    "\n",
    "Example:\n",
    "\n",
    "`Input:`\n",
    "\n",
    "```bash\n",
    "76542\n",
    "```\n",
    "\n",
    "`Output:`\n",
    "\n",
    "```bash\n",
    "24567\n",
    "```"
   ]
  },
  {
   "cell_type": "code",
   "execution_count": 24,
   "metadata": {
    "id": "wJwLpKCr3aVA"
   },
   "outputs": [
    {
     "name": "stdin",
     "output_type": "stream",
     "text": [
      "Enter any integer number:  76542\n"
     ]
    },
    {
     "name": "stdout",
     "output_type": "stream",
     "text": [
      "24567\n"
     ]
    }
   ],
   "source": [
    "# Write code here\n",
    "n = int(input(\"Enter any integer number: \"))\n",
    "# Modification to include -ive int as well\n",
    "flag=0\n",
    "if(n<0):\n",
    "    flag = 1\n",
    "    n*=-1\n",
    "reverse = 0\n",
    "while(n):\n",
    "    reverse = reverse*10 + n%10\n",
    "    n = n//10\n",
    "if(flag):\n",
    "    reverse*=-1\n",
    "print(reverse)"
   ]
  },
  {
   "cell_type": "markdown",
   "metadata": {
    "id": "-t8PJQaY3sHf"
   },
   "source": [
    "### `Problem 8`: Take a user input as integer N. Find out the sum from 1 to N. If any number if divisible by 5, then skip that number. And if the sum is greater than 300, don't need to calculate the sum further more. Print the final result. And don't use for loop to solve this problem.\n",
    "\n",
    "**Example 1:**\n",
    "\n",
    "`Input:`\n",
    "\n",
    "```bash\n",
    "30\n",
    "```\n",
    "\n",
    "`Output:`\n",
    "\n",
    "```bash\n",
    "276\n",
    "```"
   ]
  },
  {
   "cell_type": "code",
   "execution_count": 33,
   "metadata": {
    "id": "GZB6mGMP3ujT"
   },
   "outputs": [
    {
     "name": "stdin",
     "output_type": "stream",
     "text": [
      "Enter the value of n:  48\n"
     ]
    },
    {
     "name": "stdout",
     "output_type": "stream",
     "text": [
      "276\n"
     ]
    }
   ],
   "source": [
    "# Write code here\n",
    "n = int(input(\"Enter the value of n: \"))\n",
    "sum = 0\n",
    "for i in range(1,n+1):\n",
    "    if(i%5==0):\n",
    "        continue\n",
    "    if(sum + i > 300):\n",
    "        break\n",
    "    else:\n",
    "        sum+=i\n",
    "print(sum)"
   ]
  },
  {
   "cell_type": "markdown",
   "metadata": {
    "id": "Q7ggImeA3xm4"
   },
   "source": [
    "### `Problem 9`: Write a program that keeps on accepting a number from the user until the user enters Zero. Display the sum and average of all the numbers."
   ]
  },
  {
   "cell_type": "code",
   "execution_count": 36,
   "metadata": {
    "id": "t_YDSZDe4Kdo"
   },
   "outputs": [
    {
     "name": "stdin",
     "output_type": "stream",
     "text": [
      "Enter any number:  1\n",
      "Enter any number:  2\n",
      "Enter any number:  3\n",
      "Enter any number:  0\n"
     ]
    },
    {
     "name": "stdout",
     "output_type": "stream",
     "text": [
      "Sum of numbers entered:  6\n",
      "Average of numbers entered:  2.0\n"
     ]
    }
   ],
   "source": [
    "# Write code here\n",
    "n = eval(input(\"Enter any number: \"))\n",
    "sum  = 0\n",
    "count = 0\n",
    "while(n!=0):\n",
    "    sum += n\n",
    "    count +=1\n",
    "    n = eval(input(\"Enter any number: \"))\n",
    "print(\"Sum of numbers entered: \", sum)\n",
    "if(count):\n",
    "    print(\"Average of numbers entered: \", sum/count)\n",
    "else:\n",
    "    print(\"Average of numbers entered: \",0)"
   ]
  },
  {
   "cell_type": "markdown",
   "metadata": {
    "id": "6EhvEMvm4R7s"
   },
   "source": [
    "### `Problem 9`: Write a program which will find all such numbers which are divisible by 7 but are not a multiple of 5, between 2000 and 3200 (both included). The numbers obtained should be printed in a comma-separated sequence on a single line."
   ]
  },
  {
   "cell_type": "code",
   "execution_count": 38,
   "metadata": {
    "id": "d6RgP1B34T6c"
   },
   "outputs": [
    {
     "name": "stdout",
     "output_type": "stream",
     "text": [
      "2002,2009,2016,2023,2037,2044,2051,2058,2072,2079,2086,2093,2107,2114,2121,2128,2142,2149,2156,2163,2177,2184,2191,2198,2212,2219,2226,2233,2247,2254,2261,2268,2282,2289,2296,2303,2317,2324,2331,2338,2352,2359,2366,2373,2387,2394,2401,2408,2422,2429,2436,2443,2457,2464,2471,2478,2492,2499,2506,2513,2527,2534,2541,2548,2562,2569,2576,2583,2597,2604,2611,2618,2632,2639,2646,2653,2667,2674,2681,2688,2702,2709,2716,2723,2737,2744,2751,2758,2772,2779,2786,2793,2807,2814,2821,2828,2842,2849,2856,2863,2877,2884,2891,2898,2912,2919,2926,2933,2947,2954,2961,2968,2982,2989,2996,3003,3017,3024,3031,3038,3052,3059,3066,3073,3087,3094,3101,3108,3122,3129,3136,3143,3157,3164,3171,3178,3192,3199,"
     ]
    }
   ],
   "source": [
    "# Write code here\n",
    "for i in range(2000,3201):\n",
    "    if(i%7==0 and i%5!=0):\n",
    "        print(i,end= \",\")"
   ]
  },
  {
   "cell_type": "markdown",
   "metadata": {
    "id": "tYvmRR-G4Vp4"
   },
   "source": [
    "### `Problem 10`: Write a program, which will find all such numbers between 1000 and 3000 (both included) such that each digit of the number is an even number. The numbers obtained should be printed in a space-separated sequence on a single line.\n",
    "\n"
   ]
  },
  {
   "cell_type": "code",
   "execution_count": 40,
   "metadata": {
    "id": "k6Gs1kIf4k19"
   },
   "outputs": [
    {
     "name": "stdout",
     "output_type": "stream",
     "text": [
      "2000,2002,2004,2006,2008,2020,2022,2024,2026,2028,2040,2042,2044,2046,2048,2060,2062,2064,2066,2068,2080,2082,2084,2086,2088,2200,2202,2204,2206,2208,2220,2222,2224,2226,2228,2240,2242,2244,2246,2248,2260,2262,2264,2266,2268,2280,2282,2284,2286,2288,2400,2402,2404,2406,2408,2420,2422,2424,2426,2428,2440,2442,2444,2446,2448,2460,2462,2464,2466,2468,2480,2482,2484,2486,2488,2600,2602,2604,2606,2608,2620,2622,2624,2626,2628,2640,2642,2644,2646,2648,2660,2662,2664,2666,2668,2680,2682,2684,2686,2688,2800,2802,2804,2806,2808,2820,2822,2824,2826,2828,2840,2842,2844,2846,2848,2860,2862,2864,2866,2868,2880,2882,2884,2886,2888,"
     ]
    }
   ],
   "source": [
    "# Write code here\n",
    "for i in range(1000,3001):\n",
    "    x = i\n",
    "    while(x):\n",
    "        if((x%10)%2!=0):\n",
    "            break\n",
    "        x = x//10\n",
    "    else:\n",
    "        print(i,end=\",\")"
   ]
  },
  {
   "cell_type": "markdown",
   "metadata": {
    "id": "GV18IINT4mf5"
   },
   "source": [
    "### `Problem 11`: A robot moves in a plane starting from the original point (0,0). The robot can move toward UP, DOWN, LEFT and RIGHT with a given steps.\n",
    "The trace of robot movement is shown as the following:\n",
    "```\n",
    "UP 5\n",
    "DOWN 3\n",
    "LEFT 3\n",
    "RIGHT 2\n",
    "!\n",
    "```\n",
    "> The numbers after the direction are steps.\n",
    "\n",
    "> `!` means robot stop there.\n",
    "\n",
    "**Please write a program to compute the distance from current position after a sequence of movement and original point.**\n",
    "\n",
    "*If the distance is a float, then just print the nearest integer.*\n",
    "\n",
    "Example:\n",
    "\n",
    "`Input`:\n",
    "```\n",
    "UP 5\n",
    "DOWN 3\n",
    "LEFT 3\n",
    "RIGHT 2\n",
    "!\n",
    "```\n",
    "`Output`:\n",
    "```\n",
    "2\n",
    "```"
   ]
  },
  {
   "cell_type": "code",
   "execution_count": null,
   "metadata": {
    "id": "6UNMC2aR4w5x"
   },
   "outputs": [],
   "source": [
    "# Write code here"
   ]
  },
  {
   "cell_type": "markdown",
   "metadata": {
    "id": "3fsAIAhK5GYY"
   },
   "source": [
    "### `Problem 12`:Write a program to print whether a given number is a prime number or not"
   ]
  },
  {
   "cell_type": "code",
   "execution_count": 52,
   "metadata": {
    "id": "j6y91lxy5LZs"
   },
   "outputs": [
    {
     "name": "stdin",
     "output_type": "stream",
     "text": [
      "Enter any natural number:  187\n"
     ]
    },
    {
     "name": "stdout",
     "output_type": "stream",
     "text": [
      "187  is not Prime\n"
     ]
    }
   ],
   "source": [
    "# Write code here\n",
    "n = eval(input(\"Enter any natural number: \"))\n",
    "for i in range(2 , (n//2) + 1):\n",
    "    if(n%i==0):\n",
    "        print(n,\" is not Prime\")\n",
    "        break\n",
    "else:\n",
    "    print(n,\" is Prime\")"
   ]
  },
  {
   "cell_type": "markdown",
   "metadata": {
    "id": "asAbmbK-5NHv"
   },
   "source": [
    "### `Problem 13`:Print all the Armstrong numbers in a given range.\n",
    "Range will be provided by the user<br>\n",
    "Armstrong number is a number that is equal to the sum of cubes of its digits. For example 0, 1, 153, 370, 371 and 407 are the Armstrong numbers."
   ]
  },
  {
   "cell_type": "code",
   "execution_count": 60,
   "metadata": {
    "id": "PZuI67pm5jCT"
   },
   "outputs": [
    {
     "name": "stdin",
     "output_type": "stream",
     "text": [
      "Enter the lower range:  0\n",
      "Enter the higher range:  408\n"
     ]
    },
    {
     "name": "stdout",
     "output_type": "stream",
     "text": [
      "0,1,153,370,371,407,"
     ]
    }
   ],
   "source": [
    "# Write code here\n",
    "l = int(input(\"Enter the lower range: \"))\n",
    "h = int(input(\"Enter the higher range: \"))\n",
    "for i in range(l,h+1):\n",
    "    sum = 0\n",
    "    x = i\n",
    "    while(x):\n",
    "        sum += (x%10)**3\n",
    "        x = x//10\n",
    "    if(sum==i):\n",
    "        print(i, end=\",\")"
   ]
  },
  {
   "cell_type": "markdown",
   "metadata": {
    "id": "ClCQZMqT7gK0"
   },
   "source": [
    "### `Problem 14`:Calculate the angle between the hour hand and minute hand.\n",
    "\n",
    "Note: There can be two angles between hands; we need to print a minimum of two. Also, we need to print the floor of the final result angle. For example, if the final angle is 10.61, we need to print 10.\n",
    "\n",
    "Input:<br>\n",
    "H = 9 , M = 0<br>\n",
    "Output:<br>\n",
    "90<br>\n",
    "Explanation:<br>\n",
    "The minimum angle between hour and minute\n",
    "hand when the time is 9 is 90 degress."
   ]
  },
  {
   "cell_type": "code",
   "execution_count": 59,
   "metadata": {
    "id": "tNBTCZML7jy_"
   },
   "outputs": [
    {
     "name": "stdin",
     "output_type": "stream",
     "text": [
      "Enter the hour hand of clock:  10\n",
      "Enter the minute hand of the clock :  11\n"
     ]
    },
    {
     "name": "stdout",
     "output_type": "stream",
     "text": [
      "120\n"
     ]
    }
   ],
   "source": [
    "# Write code here\n",
    "import math\n",
    "hour = eval(input(\"Enter the hour hand of clock: \"))\n",
    "minute = eval(input(\"Enter the minute hand of the clock : \"))\n",
    "\n",
    "angle = (60 * hour - 11 * minute)/2\n",
    "print(math.floor(min(angle,360-angle)))"
   ]
  },
  {
   "cell_type": "markdown",
   "metadata": {
    "id": "GwacF9Co72Qc"
   },
   "source": [
    "### `Problem 15`:Given two rectangles, find if the given two rectangles overlap or not. A rectangle is denoted by providing the x and y coordinates of two points: the left top corner and the right bottom corner of the rectangle. Two rectangles sharing a side are considered overlapping. (L1 and R1 are the extreme points of the first rectangle and L2 and R2 are the extreme points of the second rectangle).\n",
    "\n",
    "Note: It may be assumed that the rectangles are parallel to the coordinate axis.\n",
    "\n",
    "<img src='https://www.geeksforgeeks.org/wp-content/uploads/rectanglesOverlap.png' width='300' height='200'>"
   ]
  },
  {
   "cell_type": "code",
   "execution_count": null,
   "metadata": {
    "id": "6rrw_lpH78Rs"
   },
   "outputs": [],
   "source": [
    "# Write code here"
   ]
  }
 ],
 "metadata": {
  "colab": {
   "provenance": []
  },
  "kernelspec": {
   "display_name": "Python 3 (ipykernel)",
   "language": "python",
   "name": "python3"
  },
  "language_info": {
   "codemirror_mode": {
    "name": "ipython",
    "version": 3
   },
   "file_extension": ".py",
   "mimetype": "text/x-python",
   "name": "python",
   "nbconvert_exporter": "python",
   "pygments_lexer": "ipython3",
   "version": "3.11.5"
  }
 },
 "nbformat": 4,
 "nbformat_minor": 4
}
