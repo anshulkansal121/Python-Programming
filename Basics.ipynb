{
 "cells": [
  {
   "cell_type": "markdown",
   "metadata": {
    "id": "A05OG15VqOPF"
   },
   "source": [
    "# Basics of Python Programming\n",
    "Concepts:\n",
    "- print function \n",
    "- Operators - Arithematic\n",
    "- Logic Building\n",
    "- Syntax\n",
    "\n",
    "Happy Learning!"
   ]
  },
  {
   "cell_type": "markdown",
   "metadata": {
    "id": "2doIXf8bqe9_"
   },
   "source": [
    "### Q1 :- Print the given strings as per stated format.\n",
    "\n",
    "**Given strings**:\n",
    "```\n",
    "\"Data\" \"Science\" \"Mentorship\" \"Program\"\n",
    "\"By\" \"CampusX\"\n",
    "```\n",
    "**Output**:\n",
    "```\n",
    "Data-Science-Mentorship-Program-started-By-CampusX\n",
    "```\n",
    "\n",
    "Concept- [Seperator and End]"
   ]
  },
  {
   "cell_type": "code",
   "execution_count": 4,
   "metadata": {
    "id": "-em6d3KErDtp"
   },
   "outputs": [
    {
     "name": "stdout",
     "output_type": "stream",
     "text": [
      "Data-Science-Mentorship-Program By-CampusX\n"
     ]
    }
   ],
   "source": [
    "\n",
    "# Write your code here\n",
    "print(\"Data\",\"Science\",\"Mentorship\",\"Program\",sep = \"-\",end = \" \")\n",
    "print(\"By\",\"CampusX\",sep = \"-\")"
   ]
  },
  {
   "cell_type": "markdown",
   "metadata": {
    "id": "1KUpN7ZTrC3_"
   },
   "source": [
    "### Q2:- Write a program that will convert celsius value to fahrenheit."
   ]
  },
  {
   "cell_type": "code",
   "execution_count": 1,
   "metadata": {
    "id": "yxKYhYQiqWfj"
   },
   "outputs": [
    {
     "name": "stdin",
     "output_type": "stream",
     "text": [
      "Enter Temprature in degree celcius:  32\n"
     ]
    },
    {
     "name": "stdout",
     "output_type": "stream",
     "text": [
      "Temprature in Fahrenheit:  89.6\n"
     ]
    }
   ],
   "source": [
    "# Write your code here\n",
    "celsius = int(input(\"Enter Temprature in degree celcius: \"))\n",
    "fahrenheit = (9/5)*celsius + 32\n",
    "print(\"Temprature in Fahrenheit: \",fahrenheit)"
   ]
  },
  {
   "cell_type": "markdown",
   "metadata": {
    "id": "RLrOBBJurLB2"
   },
   "source": [
    "### Q3:- Take 2 numbers as input from the user.Write a program to swap the numbers without using any special python syntax."
   ]
  },
  {
   "cell_type": "code",
   "execution_count": 2,
   "metadata": {
    "id": "yPn7if0TrJ4F"
   },
   "outputs": [
    {
     "name": "stdin",
     "output_type": "stream",
     "text": [
      "Enter first Number 10\n",
      "Enter second Number 5\n"
     ]
    },
    {
     "name": "stdout",
     "output_type": "stream",
     "text": [
      "Original Values:\n",
      "a :  10  b:  5\n",
      "After Swaping Values:\n",
      "a :  5  b:  10\n"
     ]
    }
   ],
   "source": [
    "# Write your code here\n",
    "a = int(input(\"Enter first Number\"))\n",
    "b = int(input(\"Enter second Number\"))\n",
    "print(\"Original Values:\")\n",
    "print(\"a : \",a,\" b: \",b)\n",
    "\n",
    "temp = a\n",
    "a = b\n",
    "b = temp\n",
    "\n",
    "print(\"After Swaping Values:\")\n",
    "print(\"a : \",a,\" b: \",b)"
   ]
  },
  {
   "cell_type": "markdown",
   "metadata": {
    "id": "waLCP1bjr7ML"
   },
   "source": [
    "### Q4:- Write a program to find the euclidean distance between two coordinates.Take both the coordinates from the user as input."
   ]
  },
  {
   "cell_type": "code",
   "execution_count": 4,
   "metadata": {
    "id": "Pl1Sv-xnrxnH"
   },
   "outputs": [
    {
     "name": "stdout",
     "output_type": "stream",
     "text": [
      "Coordinates of Point 1\n"
     ]
    },
    {
     "name": "stdin",
     "output_type": "stream",
     "text": [
      "Enter Abscissa of Point 1:  3\n",
      "Enter ordinate of Point 1:  3\n"
     ]
    },
    {
     "name": "stdout",
     "output_type": "stream",
     "text": [
      "Coordinates of Point 2\n"
     ]
    },
    {
     "name": "stdin",
     "output_type": "stream",
     "text": [
      "Enter the Abscissa of point 2:  2\n",
      "Enter the ordinate of Point 2:  2\n"
     ]
    },
    {
     "name": "stdout",
     "output_type": "stream",
     "text": [
      "Eucledian Distance form Point 2 to Point 1 is:  1.4142135623730951\n"
     ]
    }
   ],
   "source": [
    "# Write your code here\n",
    "import math\n",
    "print(\"Coordinates of Point 1\" )\n",
    "x1 = eval(input(\"Enter Abscissa of Point 1: \"))\n",
    "y1 = eval(input(\"Enter ordinate of Point 1: \"))\n",
    "\n",
    "print(\"Coordinates of Point 2\")\n",
    "x2 = eval(input(\"Enter the Abscissa of point 2: \"))\n",
    "y2 = eval(input(\"Enter the ordinate of Point 2: \"))\n",
    "\n",
    "eucledian_dist = math.sqrt((x1-x2)**2 + (y1-y2)**2)\n",
    "print(\"Eucledian Distance form Point 2 to Point 1 is: \", eucledian_dist)"
   ]
  },
  {
   "cell_type": "markdown",
   "metadata": {
    "id": "VLrhg-FRsHjR"
   },
   "source": [
    "### Q5:- Write a program to find the simple interest when the value of principle,rate of interest and time period is provided by the user.\n"
   ]
  },
  {
   "cell_type": "code",
   "execution_count": 3,
   "metadata": {
    "id": "s40DlReZsTmY"
   },
   "outputs": [
    {
     "name": "stdin",
     "output_type": "stream",
     "text": [
      "Enter the Principle amount:  10000\n",
      "Enter Rate of interest:  7\n",
      "Enter the time period:  5\n"
     ]
    },
    {
     "name": "stdout",
     "output_type": "stream",
     "text": [
      "Simple Interest:  3500.0\n"
     ]
    }
   ],
   "source": [
    "# Write your code here\n",
    "principle = eval(input(\"Enter the Principle amount: \"))\n",
    "roi = eval(input(\"Enter Rate of interest: \"))\n",
    "time = eval(input(\"Enter the time period: \"))\n",
    "\n",
    "SI = principle * roi * time / 100\n",
    "print(\"Simple Interest: \", SI)"
   ]
  },
  {
   "cell_type": "markdown",
   "metadata": {
    "id": "LMy0BTUktYKa"
   },
   "source": [
    "### Q6:- Write a program that will tell the number of dogs and chicken are there when the user will provide the value of total heads and legs.\n",
    "\n",
    "For example:\n",
    "Input:\n",
    "heads -> 4\n",
    "legs -> 12\n",
    "<br>\n",
    "Output:\n",
    "dogs -> 2\n",
    "chicken -> 2\n",
    "\n",
    "\n",
    "\n"
   ]
  },
  {
   "cell_type": "code",
   "execution_count": 4,
   "metadata": {
    "id": "XSBvJoA4tXaG"
   },
   "outputs": [
    {
     "name": "stdin",
     "output_type": "stream",
     "text": [
      "Enter total number of heads:  5\n",
      "Enter total number of legs:  16\n"
     ]
    },
    {
     "name": "stdout",
     "output_type": "stream",
     "text": [
      "Dogs:  3  Chickens: 2\n"
     ]
    }
   ],
   "source": [
    "# Write your code here\n",
    "heads = eval(input(\"Enter total number of heads: \"))\n",
    "legs = eval(input(\"Enter total number of legs: \"))\n",
    "chicken = (4*heads - legs)//2\n",
    "dogs = heads - chicken\n",
    "print(\"Dogs: \", dogs,\" Chickens:\",chicken)"
   ]
  },
  {
   "cell_type": "markdown",
   "metadata": {
    "id": "gJ7C5kZYt4BP"
   },
   "source": [
    "### Q7:- Write a program to find the sum of squares of first n natural numbers where n will be provided by the user."
   ]
  },
  {
   "cell_type": "code",
   "execution_count": 5,
   "metadata": {
    "id": "_tHsmEHzt2nX"
   },
   "outputs": [
    {
     "name": "stdin",
     "output_type": "stream",
     "text": [
      "enter the number of terms:  10\n"
     ]
    },
    {
     "name": "stdout",
     "output_type": "stream",
     "text": [
      "sum of square of first  10 natural numbers is:  385.0\n"
     ]
    }
   ],
   "source": [
    "# Write your code here\n",
    "n = eval(input(\"enter the number of terms: \"))\n",
    "sum = n*(n+1)*(2*n+1)/6\n",
    "print(\"sum of square of first \",n,\"natural numbers is: \", sum)"
   ]
  },
  {
   "cell_type": "markdown",
   "metadata": {
    "id": "FHrMM7g-yG1h"
   },
   "source": [
    "### Q8:- Given the first 2 terms of an Arithmetic Series.Find the Nth term of the series. Assume all inputs are provided by the user."
   ]
  },
  {
   "cell_type": "code",
   "execution_count": 6,
   "metadata": {
    "id": "go4_kmZmyVSx"
   },
   "outputs": [
    {
     "name": "stdin",
     "output_type": "stream",
     "text": [
      "Enter the first term of AP:  3\n",
      "Enter the second term of AP:  1\n",
      "Enter the value of n:  4\n"
     ]
    },
    {
     "name": "stdout",
     "output_type": "stream",
     "text": [
      "Nth term of AP is:  -3\n"
     ]
    }
   ],
   "source": [
    "# Write your code here\n",
    "a1 = eval(input(\"Enter the first term of AP: \"))\n",
    "a2 = eval(input(\"Enter the second term of AP: \" ))\n",
    "n = eval(input(\"Enter the value of n: \"))\n",
    "cd = a2 - a1\n",
    "an = a1 + (n-1)*cd\n",
    "print(\"Nth term of AP is: \", an) "
   ]
  },
  {
   "cell_type": "markdown",
   "metadata": {
    "id": "QgyRX_es1oum"
   },
   "source": [
    "### Q9:- Given 2 fractions, find the sum of those 2 fractions.Take the numerator and denominator values of the fractions from the user."
   ]
  },
  {
   "cell_type": "code",
   "execution_count": 1,
   "metadata": {
    "id": "X05xqFS1yW16"
   },
   "outputs": [
    {
     "name": "stdout",
     "output_type": "stream",
     "text": [
      "Fraction 1\n"
     ]
    },
    {
     "name": "stdin",
     "output_type": "stream",
     "text": [
      "Enter the value of numerator:  1\n",
      "Enter the value of denominator:  2\n"
     ]
    },
    {
     "name": "stdout",
     "output_type": "stream",
     "text": [
      "Fraction 2\n"
     ]
    },
    {
     "name": "stdin",
     "output_type": "stream",
     "text": [
      "Enter the value of numerator:  1\n",
      "Enter the value of denominator:  1\n"
     ]
    },
    {
     "name": "stdout",
     "output_type": "stream",
     "text": [
      "Sum of fraction is:  3 / 2\n"
     ]
    }
   ],
   "source": [
    "# Write your code here\n",
    "print(\"Fraction 1\")\n",
    "numerator1 = eval(input(\"Enter the value of numerator: \"))\n",
    "denominator1 = eval(input(\"Enter the value of denominator: \"))\n",
    "\n",
    "print(\"Fraction 2\")\n",
    "numerator2 = eval(input(\"Enter the value of numerator: \"))\n",
    "denominator2 = eval(input(\"Enter the value of denominator: \"))\n",
    "\n",
    "denominator = denominator1 * denominator2\n",
    "numerator = numerator1*denominator2 + numerator2*denominator1\n",
    "\n",
    "print(\"Sum of fraction is: \", numerator,\"/\",denominator)"
   ]
  },
  {
   "cell_type": "markdown",
   "metadata": {
    "id": "eaql38ln13u7"
   },
   "source": [
    "### Q10:- Given the height, width and breadth of a milk tank, you have to find out how many glasses of milk can be obtained? Assume all the inputs are provided by the user.\n",
    "\n",
    "\n",
    "\n",
    "Input:<br>\n",
    "Dimensions of the milk tank<br>\n",
    "H = 20cm, L = 20cm, B = 20cm\n",
    "<br><br>\n",
    "Dimensions of the glass<br>\n",
    "h = 3cm, r = 1cm"
   ]
  },
  {
   "cell_type": "code",
   "execution_count": 7,
   "metadata": {
    "id": "FePZqno74eWv"
   },
   "outputs": [
    {
     "name": "stdout",
     "output_type": "stream",
     "text": [
      "Dimensions of the milk tank: \n"
     ]
    },
    {
     "name": "stdin",
     "output_type": "stream",
     "text": [
      "Enter the height of Milk tank:  20\n",
      "Enter the length of milk tank:  20\n",
      "Enter the breadth of milk tank:  20\n"
     ]
    },
    {
     "name": "stdout",
     "output_type": "stream",
     "text": [
      "Dimensions of the glass: \n"
     ]
    },
    {
     "name": "stdin",
     "output_type": "stream",
     "text": [
      "Enter the height of the glass:  3\n",
      "Enter the radius of the glass:  1\n"
     ]
    },
    {
     "name": "stdout",
     "output_type": "stream",
     "text": [
      "Number of glasses of milk obtained:  424.0\n"
     ]
    }
   ],
   "source": [
    "# Write your code here\n",
    "print(\"Dimensions of the milk tank: \")\n",
    "hm = eval(input(\"Enter the height of Milk tank: \"))\n",
    "lm = eval(input(\"Enter the length of milk tank: \"))\n",
    "bm = eval(input(\"Enter the breadth of milk tank: \"))\n",
    "\n",
    "print(\"Dimensions of the glass: \")\n",
    "hg = eval(input(\"Enter the height of the glass: \"))\n",
    "rg = eval(input(\"Enter the radius of the glass: \"))\n",
    "\n",
    "volume_milk_tank = hm*lm*bm\n",
    "volume_glass = 2*3.14 * hg *(rg)**2\n",
    "\n",
    "Number_of_glass = volume_milk_tank//volume_glass\n",
    "print(\"Number of glasses of milk obtained: \",Number_of_glass)"
   ]
  },
  {
   "cell_type": "code",
   "execution_count": null,
   "metadata": {},
   "outputs": [],
   "source": []
  }
 ],
 "metadata": {
  "colab": {
   "provenance": []
  },
  "kernelspec": {
   "display_name": "Python 3 (ipykernel)",
   "language": "python",
   "name": "python3"
  },
  "language_info": {
   "codemirror_mode": {
    "name": "ipython",
    "version": 3
   },
   "file_extension": ".py",
   "mimetype": "text/x-python",
   "name": "python",
   "nbconvert_exporter": "python",
   "pygments_lexer": "ipython3",
   "version": "3.11.5"
  }
 },
 "nbformat": 4,
 "nbformat_minor": 4
}
